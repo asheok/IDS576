{
  "nbformat": 4,
  "nbformat_minor": 0,
  "metadata": {
    "colab": {
      "provenance": [],
      "collapsed_sections": []
    },
    "kernelspec": {
      "name": "python3",
      "display_name": "Python 3"
    },
    "language_info": {
      "name": "python"
    }
  },
  "cells": [
    {
      "cell_type": "markdown",
      "source": [
        "# Question 1\n"
      ],
      "metadata": {
        "id": "L_0tSAPotlnT"
      }
    },
    {
      "cell_type": "code",
      "source": [
        "import numpy as np\n",
        "import matplotlib\n",
        "import torch\n",
        "import autograd.numpy\n",
        "\n",
        "# Source: Tom Roth - \"Building a Computational Graph\" Parts 1, 2, and 3"
      ],
      "metadata": {
        "id": "7KGMV3bJtk-A"
      },
      "execution_count": null,
      "outputs": []
    },
    {
      "cell_type": "code",
      "execution_count": null,
      "metadata": {
        "id": "CsJrIA1mtSfm"
      },
      "outputs": [],
      "source": [
        "# Write in function with 5 variables: a, b, c, d, e\n",
        "\n",
        "def f(a, b, c, d, e): return (1)/((1+(a**b + c**d)*e)**2)"
      ]
    },
    {
      "cell_type": "code",
      "source": [
        "# Break expression down with numpy operator overloading\n",
        "\n",
        "def f22(a, b, c, d, e): return np.reciprocal(np.power\n",
        "      (2,np.add(1,np.multiply(e,np.add(np.power(a,b))(np.power(c,d))))))"
      ],
      "metadata": {
        "id": "xTuuQAVDtrQ0"
      },
      "execution_count": null,
      "outputs": []
    },
    {
      "cell_type": "code",
      "source": [
        "# Each intermediate value stores the result of the operation with the previous one\n",
        "# Write out these primitives\n",
        "\n",
        "def f33(a, b, c, d, e):\n",
        "  t1 = np.power(c, d)\n",
        "  t2 = np.power(a, b)\n",
        "  t3 = np.add(t1, t2)\n",
        "  t4 = np.multiply(e, t3)\n",
        "  t5 = np.add(1, t4)\n",
        "  t6 = np.power(2, t5)\n",
        "  y = np.reciprocal(t6)\n",
        "  return y"
      ],
      "metadata": {
        "id": "78_5n1kOtrN5"
      },
      "execution_count": null,
      "outputs": []
    },
    {
      "cell_type": "code",
      "source": [
        "# Construct Node Class\n",
        "\n",
        "class Node:\n",
        "    \"\"\"A node in a computation graph.\"\"\"\n",
        "    def __init__(self, value, fun, parents):\n",
        "        self.parents = parents\n",
        "        self.value = value\n",
        "        self.fun = fun "
      ],
      "metadata": {
        "id": "R3vLDzpUtrKU"
      },
      "execution_count": null,
      "outputs": []
    },
    {
      "cell_type": "code",
      "source": [
        "# Build computational graph\n",
        "# Provide inputs wherein (a, b, c, d, e) = (1, 1, 1, 1, 1)\n",
        "\n",
        "# Will receive output of 0.111\n",
        "# This computational graph is resilient to any changes in variables (a, b, c, d, e)\n",
        "\n",
        "val_a = 1\n",
        "val_b = 1\n",
        "val_c = 1\n",
        "val_d = 1\n",
        "val_e = 1\n",
        "a = Node(val_a, None, [])\n",
        "b = Node(val_b, None, [])\n",
        "c = Node(val_c, None, [])\n",
        "d = Node(val_d, None, [])\n",
        "e = Node(val_e, None, [])\n",
        "\n",
        "val_t1 = np.power(val_c, val_d)\n",
        "t1 = Node(val_t1,np.power, [c,d])\n",
        "val_t2 = np.power(val_a, val_b)\n",
        "t2 = Node(val_t2,np.power, [a,b])\n",
        "val_t3 = np.add(val_t1, val_t2)\n",
        "t3 = Node(val_t3, np.add, [t1,t2])\n",
        "val_t4 = np.multiply(val_e, val_t3)\n",
        "t4 = Node(val_t4, np.multiply, [e,t3])\n",
        "val_t5 = np.add(val_t4, 1)\n",
        "t5 = Node(val_t5, np.add, [t4,1])\n",
        "val_t6 = np.power(val_t5, 2)\n",
        "t6 = Node(val_t6, np.power, [t5,2])\n",
        "val_y = np.divide(1, val_t6)\n",
        "y = Node(val_y, np.divide, [1,t6])\n",
        "\n",
        "print(round(y.value,3))"
      ],
      "metadata": {
        "colab": {
          "base_uri": "https://localhost:8080/"
        },
        "id": "U0cTP9jBtrIL",
        "outputId": "66e24a7f-22aa-48a7-a669-dc2f647a551b"
      },
      "execution_count": null,
      "outputs": [
        {
          "output_type": "stream",
          "name": "stdout",
          "text": [
            "0.111\n"
          ]
        }
      ]
    },
    {
      "cell_type": "markdown",
      "source": [
        "# Question 2"
      ],
      "metadata": {
        "id": "sGCw7I_-t5ze"
      }
    },
    {
      "cell_type": "code",
      "source": [
        "import numpy as np\n",
        "import matplotlib.pyplot as plt\n",
        "from sklearn.metrics import mean_squared_error as mse"
      ],
      "metadata": {
        "id": "jbgFc6FutrFZ"
      },
      "execution_count": null,
      "outputs": []
    },
    {
      "cell_type": "code",
      "source": [
        "## 1. Write a function to compute the mean squared error between a prediction and ground truth assuming both are numpy arrays (see python module numpy).\n",
        "\n",
        "size=10\n",
        "actuals=np.random.uniform(low=0, high=1, size=(size,))\n",
        "predictions=np.random.uniform(low=0, high=1, size=(size,))\n",
        "def mse(actuals,predictions):\n",
        "  error=0\n",
        "  for i in range(len(actuals)):\n",
        "    squared_error=(actuals[i]-predictions[i])**2\n",
        "\n",
        "  MSE=squared_error/size\n",
        "  return(MSE)\n",
        "\n",
        "mse(actuals,predictions)"
      ],
      "metadata": {
        "colab": {
          "base_uri": "https://localhost:8080/"
        },
        "id": "HtqV754rtrCx",
        "outputId": "8f7b9c61-d047-4d36-fef7-b01e03a72775"
      },
      "execution_count": null,
      "outputs": [
        {
          "output_type": "execute_result",
          "data": {
            "text/plain": [
              "0.004555225937913399"
            ]
          },
          "metadata": {},
          "execution_count": 8
        }
      ]
    },
    {
      "cell_type": "code",
      "source": [
        "## 2. Consider a model: 𝑦=𝑚𝑥+𝑐, where the model parameter 𝑚=1 and parameter 𝑐=0 and 𝑥∈(0,1). Plot the function using matplotlib.\n",
        "\n",
        "## https://matplotlib.org/stable/tutorials/introductory/pyplot.html\n",
        "\n",
        "X = np.random.uniform(low=0, high=1, size=(100,))\n",
        "m=1\n",
        "c=0\n",
        "Y=m*X+c\n",
        "plt.plot(X,Y,label='y=1*x+0')\n",
        "plt.title('Graph of y=m*x+c for m=1 and c=0')\n",
        "plt.xlabel('Actuals (X)')\n",
        "plt.ylabel('Predictions (Y)')\n",
        "plt.show()"
      ],
      "metadata": {
        "colab": {
          "base_uri": "https://localhost:8080/",
          "height": 316
        },
        "id": "_d1XFPxetrAj",
        "outputId": "814bb56b-ba54-45a9-9e8b-6c4b9e0dfc9e"
      },
      "execution_count": null,
      "outputs": [
        {
          "output_type": "display_data",
          "data": {
            "text/plain": [
              "<Figure size 432x288 with 1 Axes>"
            ],
            "image/png": "[encoded data removed]"
          },
          "metadata": {
            "needs_background": "light"
          }
        }
      ]
    },
    {
      "cell_type": "code",
      "source": [
        "## 3. Generate example data by drawing 𝑁=100 uniform values from the range in which 𝑥 lies, and compute the corresponding 𝑦 to get {𝑥𝑖,𝑦𝑖} 𝑖=1 to N\n",
        "X=np.random.uniform(low=0, high=1, size=(100,))\n",
        "m=1\n",
        "c=0\n",
        "\n",
        "Y=m*X+c\n",
        "a=dict(zip(X,Y))\n",
        "\n"
      ],
      "metadata": {
        "id": "r-8mlRCrtq91"
      },
      "execution_count": null,
      "outputs": []
    },
    {
      "cell_type": "code",
      "source": [
        "# ## 4. Assuming that you do not know the model parameters, use backpropagation and gradient descent updates to find the model parameters (choose an appropriate learning rate). The loss function will be the mean squared error.\n",
        "\n",
        "X=np.random.uniform(low=0, high=1, size=(100,))\n",
        "Y=1*X+0\n",
        "\n",
        "learningRate1=1e-3\n",
        "\n",
        "num_update=10\n",
        "update=np.arange(num_update)\n",
        "\n",
        "c_gradient = 0\n",
        "m_gradient = 0\n",
        "m_current = np.random.random()\n",
        "c_current = np.random.random()\n",
        "\n",
        "error =  mse(Y, X*m_current + c_current)\n",
        "print(\"Initial m: \"+str(m_current)+\", c: \"+str(c_current)+\", MSE: \"+str(error))\n",
        "\n",
        "print(\"\\n LR: \"+str(learningRate1))\n",
        "for upd in range(num_update): \n",
        "  for i in range(len(X)):\n",
        "    x = X[i]\n",
        "    y = Y[i]\n",
        "    c_gradient += -(2/X.shape[0]) * (y - ((m_current * x) + c_current))\n",
        "    m_gradient += -(2/X.shape[0]) * x * (y - ((m_current * x) + c_current))\n",
        "  c_current = c_current - (learningRate1 * c_gradient)\n",
        "  m_current = m_current - (learningRate1 * m_gradient)\n",
        "  error =  mse(Y, X*m_current + c_current)\n",
        "  print(\"Update \"+str(upd+1)+\": m: \"+str(m_current)+\", c:\"+str(c_current)+\", MSE: \"+str(error))\n"
      ],
      "metadata": {
        "colab": {
          "base_uri": "https://localhost:8080/"
        },
        "id": "3Wm7yrMItq7P",
        "outputId": "188655f7-a1c2-4744-faed-8c5ea339514b"
      },
      "execution_count": null,
      "outputs": [
        {
          "output_type": "stream",
          "name": "stdout",
          "text": [
            "Initial m: 0.06857889803267225, c: 0.044132515280236206, MSE: 0.07318492447357537\n",
            "\n",
            " LR: 0.001\n",
            "Update 1: m: 0.0690905328824875, c:0.0449071518864198, MSE: 0.07296799840260426\n",
            "Update 2: m: 0.07011278142844166, c:0.04645440182885242, MSE: 0.07253562480584824\n",
            "Update 3: m: 0.0716436038433616, c:0.04877022356023788, MSE: 0.07189074808339127\n",
            "Update 4: m: 0.07367994658083997, c:0.05184856722878142, MSE: 0.0710377532282861\n",
            "Update 5: m: 0.07621774979140263, c:0.055681389606807304, MSE: 0.06998242822913629\n",
            "Update 6: m: 0.0792519571823513, c:0.060258673938403076, MSE: 0.06873191448856544\n",
            "Update 7: m: 0.08277652829704508, c:0.06556845465726084, MSE: 0.06729464572078472\n",
            "Update 8: m: 0.08678445318343708, c:0.0715968469139037, MSE: 0.06568027589883677\n",
            "Update 9: m: 0.09126776941580977, c:0.07832808083965363, MSE: 0.06389959692395833\n",
            "Update 10: m: 0.09621758142786842, c:0.08574454046304324, MSE: 0.06196444678488342\n"
          ]
        }
      ]
    },
    {
      "cell_type": "code",
      "source": [
        "## 5. Plot the error in the estimates as a function of the number of iterations of gradient update. Change the learning rate and plot another curve on the previous plot. \n",
        "# Plot 1\n",
        "\n",
        "X=np.random.uniform(low=0, high=1, size=(100,))\n",
        "Y=1*X+0\n",
        "\n",
        "learningRate1=0.001\n",
        "learningRate2=0.0001\n",
        "learningRate3=0.005\n",
        "num_update=10\n",
        "update=np.arange(num_update)\n",
        "\n",
        "\n",
        "c_gradient = 0\n",
        "m_gradient = 0\n",
        "m_current = np.random.random()\n",
        "c_current = np.random.random()\n",
        "\n",
        "error =  mse(Y, X*m_current + c_current)\n",
        "print(\"Initial m: \"+str(m_current)+\", c: \"+str(c_current)+\", MSE: \"+str(error))\n",
        "\n",
        "\n",
        "\n",
        "def upd1(X,Y,m_current,m_gradient,c_current,c_gradient,learningRate1,num_update,error):\n",
        "  e_list=[]\n",
        "  e_list.append(error)\n",
        "  print(\"\\n LR: \"+str(learningRate1))\n",
        "  for upd in range(num_update): \n",
        "    for i in range(len(X)):\n",
        "      x = X[i]\n",
        "      y = Y[i]\n",
        "      c_gradient += -(2/X.shape[0]) * (y - ((m_current * x) + c_current))\n",
        "      m_gradient += -(2/X.shape[0]) * x * (y - ((m_current * x) + c_current))\n",
        "    c_current = c_current - (learningRate1 * c_gradient)\n",
        "    m_current = m_current - (learningRate1 * m_gradient)\n",
        "    error =  mse(Y, X*m_current + c_current)\n",
        "    e_list.append(error)\n",
        "    print(\"Update \"+str(upd+1)+\": m: \"+str(m_current)+\", c:\"+str(c_current)+\", MSE: \"+str(error))\n",
        "  return e_list\n",
        "\n",
        "e_list1=upd1(X,Y,m_current,m_gradient,c_current,c_gradient,learningRate1,num_update,error)\n",
        "e_list2=upd1(X,Y,m_current,m_gradient,c_current,c_gradient,learningRate2,num_update,error)\n",
        "e_list3=upd1(X,Y,m_current,m_gradient,c_current,c_gradient,learningRate3,num_update,error)\n",
        "\n",
        "\n",
        "update = np.insert(update, 0, -1)\n",
        "update=update+1\n",
        "\n",
        "print(\"\\n\\n\")\n",
        "plt.plot(update,e_list1,\"red\",label='LR = 0.001')\n",
        "plt.plot(update,e_list2,\"blue\",label='LR = 0.0001')\n",
        "plt.plot(update,e_list3,\"green\",label='LR = 0.005')\n",
        "plt.title('Graph of Y = m*X + c with Backpropagation')\n",
        "plt.xlabel('Update')\n",
        "plt.ylabel('Error')\n",
        "plt.legend()\n",
        "plt.show()"
      ],
      "metadata": {
        "colab": {
          "base_uri": "https://localhost:8080/",
          "height": 977
        },
        "id": "BYgVWAfDtq4p",
        "outputId": "738a34f6-6312-4076-9518-7679c0b81585"
      },
      "execution_count": null,
      "outputs": [
        {
          "output_type": "stream",
          "name": "stdout",
          "text": [
            "Initial m: 0.018477974851459078, c: 0.3931629361408838, MSE: 0.005072348876999611\n",
            "\n",
            " LR: 0.001\n",
            "Update 1: m: 0.01869448177019855, c:0.3932775846638978, MSE: 0.005061046814632703\n",
            "Update 2: m: 0.01912726300196257, c:0.39350645367338616, MSE: 0.005038506301319611\n",
            "Update 3: m: 0.019775853865067687, c:0.39384868816586, MSE: 0.005004854065019593\n",
            "Update 4: m: 0.02063955866006122, c:0.39430300830743603, MSE: 0.004960278964892027\n",
            "Update 5: m: 0.021717452253789772, c:0.39486771263211207, MSE: 0.004905030524311743\n",
            "Update 6: m: 0.023008382185469252, c:0.3955406822939119, MSE: 0.004839416995348932\n",
            "Update 7: m: 0.024510971289614276, c:0.3963193863624626, MSE: 0.004763802972001079\n",
            "Update 8: m: 0.026223620829422915, c:0.39720088814900484, MSE: 0.004678606573477801\n",
            "Update 9: m: 0.028144514132966657, c:0.39818185254730876, MSE: 0.0045842962226513686\n",
            "Update 10: m: 0.030271620723307986, c:0.3992585543714747, MSE: 0.004481387048360477\n",
            "\n",
            " LR: 0.0001\n",
            "Update 1: m: 0.018499625543333027, c:0.39317440099318524, MSE: 0.005071218103514822\n",
            "Update 2: m: 0.01854292460102377, c:0.3931973264174226, MSE: 0.005068957193438086\n",
            "Update 3: m: 0.01860786737294676, c:0.3932317038539348, MSE: 0.005065567420059214\n",
            "Update 4: m: 0.018694446883049404, c:0.3932775204659037, MSE: 0.0050610506920737265\n",
            "Update 5: m: 0.018802653832399794, c:0.39333475914256205, MSE: 0.005055409552097071\n",
            "Update 6: m: 0.018932476601304395, c:0.39340339850346917, MSE: 0.005048647174685608\n",
            "Update 7: m: 0.019083901251954194, c:0.39348341290385364, MSE: 0.005040767363866225\n",
            "Update 8: m: 0.01925691153159865, c:0.3935747724410217, MSE: 0.0050317745501766865\n",
            "Update 9: m: 0.01945148887624668, c:0.39367744296182955, MSE: 0.005021673787219445\n",
            "Update 10: m: 0.019667612414893773, c:0.3937913860712183, MSE: 0.005010470747731964\n",
            "\n",
            " LR: 0.005\n",
            "Update 1: m: 0.01956050944515643, c:0.3937361787559537, MSE: 0.005015964620297386\n",
            "Update 2: m: 0.02171976348967816, c:0.3948719630726039, MSE: 0.004904777757167309\n",
            "Update 3: m: 0.02494417291757608, c:0.3965490209626351, MSE: 0.004741890267003327\n",
            "Update 4: m: 0.029216556365014724, c:0.3987357828397888, MSE: 0.004531804549895849\n",
            "Update 5: m: 0.03451431060294326, c:0.4013907722125712, MSE: 0.004280250269759513\n",
            "Update 6: m: 0.0408096673855434, c:0.40446312419075603, MSE: 0.003993965641074805\n",
            "Update 7: m: 0.04807000858068623, c:0.4078932215816481, MSE: 0.0036804428422596716\n",
            "Update 8: m: 0.056258235736002034, c:0.4116134407687979, MSE: 0.0033476487742084733\n",
            "Update 9: m: 0.06533318957018522, c:0.41554899821818997, MSE: 0.0030037333914197566\n",
            "Update 10: m: 0.07525011427045983, c:0.41961888722151164, MSE: 0.0026567382695235372\n",
            "\n",
            "\n",
            "\n"
          ]
        },
        {
          "output_type": "display_data",
          "data": {
            "text/plain": [
              "<Figure size 432x288 with 1 Axes>"
            ],
            "image/png": "[encoded data removed]"
          },
          "metadata": {
            "needs_background": "light"
          }
        }
      ]
    },
    {
      "cell_type": "code",
      "source": [
        "## 6. Do steps 3-5 when the model is 𝑦=𝑚1𝑥+𝑚2𝑥2+𝑐 and the true parameters are 𝑚1=0.5, 𝑚2=1 and 𝑐=1. And 𝑥∈(0,1). Also, plot the ground truth function (i.e., with the true values of 𝑚1,𝑚2 and 𝑐). \n",
        "#Compare and contrast the plot with the previous one.\n",
        "\n",
        "X=np.random.uniform(low=0, high=1, size=(100,))\n",
        "m1=0.5\n",
        "m2=1\n",
        "c=1\n",
        "\n",
        "Y=m1*X + m2*x*x + c\n",
        "a=dict(zip(X,Y))\n",
        "\n",
        "learningRate1=0.001\n",
        "learningRate2=0.0001\n",
        "learningRate3=0.0005\n",
        "num_update=10\n",
        "update=np.arange(num_update)\n",
        "\n",
        "c_gradient = 0\n",
        "m1_gradient = 0\n",
        "m2_gradient = 0\n",
        "c_current = np.random.random()\n",
        "m1_current = np.random.random()\n",
        "m2_current = np.random.random()\n",
        "\n",
        "error =  mse(Y, X*m1_current + X*X*m2_current + c_current)\n",
        "print(\"Initial m1: \"+str(m1_current)+\", m2: \"+str(m2_current)+\", c: \"+str(c_current)+\", MSE: \"+str(error))\n",
        "\n",
        "def upd2(X,Y,num_update,m1_current,m2_current,c_current,learningRate1,c_gradient, m1_gradient,m2_gradient,error):\n",
        "  e_list=[]\n",
        "  e_list.append(error)\n",
        "  print(\"\\n LR: \"+str(learningRate1))\n",
        "  for upd in range(num_update): \n",
        "    for i in range(len(X)):\n",
        "      x = X[i]\n",
        "      y = Y[i]\n",
        "      c_gradient += -(2/X.shape[0]) * (y - ((m1_current * x) + (m2_current * x * x) + c_current))\n",
        "      m1_gradient += -(2/X.shape[0]) * x * (y - ((m1_current * x) + (m2_current * x * x) + c_current))\n",
        "      m2_gradient += -(2/X.shape[0]) * x * x * (y - ((m1_current * x) + (m2_current * x * x) + c_current))\n",
        "    c_current = c_current - (learningRate1 * c_gradient)\n",
        "    m1_current = m1_current - (learningRate1 * m1_gradient)\n",
        "    m2_current = m2_current - (learningRate1 * m2_gradient)\n",
        "    error =  mse(Y, X*m1_current + X*X*m2_current + c_current)\n",
        "    e_list.append(error)\n",
        "    print(\"Update \"+str(upd+1)+\": m1: \"+str(m1_current)+\",m2: \"+str(m2_current) + \",c:\"+str(c_current)+\", MSE: \"+str(error))\n",
        "  return e_list\n",
        "\n",
        "e_list1=upd2(X,Y,num_update,m1_current,m2_current,c_current,learningRate1,c_gradient, m1_gradient,m2_gradient,error)\n",
        "e_list2=upd2(X,Y,num_update,m1_current,m2_current,c_current,learningRate2,c_gradient, m1_gradient,m2_gradient,error)\n",
        "e_list3=upd2(X,Y,num_update,m1_current,m2_current,c_current,learningRate3,c_gradient, m1_gradient,m2_gradient,error)\n",
        "\n",
        "\n",
        "update = np.insert(update, 0, -1)\n",
        "update=update+1\n",
        "\n",
        "print(\"\\n\\n\")\n",
        "plt.plot(update,e_list1,\"red\",label='LR = 0.001')\n",
        "plt.plot(update,e_list2,\"blue\",label='LR = 0.0001')\n",
        "plt.plot(update,e_list3,\"green\",label='LR = 0.005')\n",
        "plt.title('Graph of Y = m1*X + m2*X*X + c with Backpropagation')\n",
        "plt.xlabel('Update')\n",
        "plt.ylabel('Error')\n",
        "plt.legend()\n",
        "plt.show()\n"
      ],
      "metadata": {
        "colab": {
          "base_uri": "https://localhost:8080/",
          "height": 977
        },
        "id": "xaR8uphDtq2L",
        "outputId": "ed36b63d-9111-4712-ca2f-d1a3496c8ff4"
      },
      "execution_count": null,
      "outputs": [
        {
          "output_type": "stream",
          "name": "stdout",
          "text": [
            "Initial m1: 0.7622239345910186, m2: 0.9369981181174618, c: 0.9495546863660729, MSE: 0.03232781191664244\n",
            "\n",
            " LR: 0.001\n",
            "Update 1: m1: 0.7625273714371792,m2: 0.9371297426446081,c:0.9505580347587549, MSE: 0.03219086752729931\n",
            "Update 2: m1: 0.7631328941946304,m2: 0.9373920194469537,c:0.9525623097826483, MSE: 0.03191823884838183\n",
            "Update 3: m1: 0.7640378050828897,m2: 0.937783007028765,c:0.955562674889905, MSE: 0.0315124325517677\n",
            "Update 4: m1: 0.7652380676423348,m2: 0.9382998006579695,c:0.9595518926760348, MSE: 0.030977174979419524\n",
            "Update 5: m1: 0.7667283189538426,m2: 0.9389385413551633,c:0.9645203457234435, MSE: 0.030317372171816088\n",
            "Update 6: m1: 0.7685018858756084,m2: 0.9396944278376602,c:0.9704560642976618, MSE: 0.029539057279651865\n",
            "Update 7: m1: 0.7705508052493292,m2: 0.9405617313833398,c:0.977344760815065, MSE: 0.028649325954376657\n",
            "Update 8: m1: 0.7728658480162459,m2: 0.9415338135704392,c:0.985169870981027, MSE: 0.027656260449012638\n",
            "Update 9: m1: 0.7754365471720222,m2: 0.9426031468409465,c:0.9939126014779022, MSE: 0.0265688432880948\n",
            "Update 10: m1: 0.778251229478131,m2: 0.9437613378269185,c:1.0035519840630214, MSE: 0.025396861483054957\n",
            "\n",
            " LR: 0.0001\n",
            "Update 1: m1: 0.7622542782756346,m2: 0.9370112805701765,c:0.9496550212053411, MSE: 0.03231410439745882\n",
            "Update 2: m1: 0.762314952135518,m2: 0.9370375957530863,c:0.9498556666662628, MSE: 0.03228670198243691\n",
            "Update 3: m1: 0.7624059291560606,m2: 0.9370770442241605,c:0.9501565743205836, MSE: 0.03224562990470521\n",
            "Update 4: m1: 0.7625271688255723,m2: 0.9371295968278724,c:0.9505576715433579, MSE: 0.03219092598006702\n",
            "Update 5: m1: 0.7626786171475434,m2: 0.9371952147042205,c:0.9510588615338654, MSE: 0.03212264056637611\n",
            "Update 6: m1: 0.7628602066569903,m2: 0.9372738493007519,c:0.9516600233434915, MSE: 0.03204083650944235\n",
            "Update 7: m1: 0.7630718564408775,m2: 0.9373654423875857,c:0.9523610119105618, MSE: 0.031945589075529454\n",
            "Update 8: m1: 0.7633134721626107,m2: 0.9374699260754309,c:0.9531616581021208, MSE: 0.03183698587052029\n",
            "Update 9: m1: 0.7635849460905947,m2: 0.9375872228365937,c:0.9540617687626437, MSE: 0.031715126745842155\n",
            "Update 10: m1: 0.763886157130846,m2: 0.9377172455289683,c:0.9550611267696648, MSE: 0.0315801236912587\n",
            "\n",
            " LR: 0.0005\n",
            "Update 1: m1: 0.7623756530140988,m2: 0.937063930381035,c:0.9500563605624138, MSE: 0.0322593033879451\n",
            "Update 2: m1: 0.7626787521265419,m2: 0.9371953118451946,c:0.9510591035147282, MSE: 0.03212260166581653\n",
            "Update 3: m1: 0.7631325569720699,m2: 0.9373917767599871,c:0.9525617052141673, MSE: 0.03191833572745054\n",
            "Update 4: m1: 0.7637360563934066,m2: 0.9376525974399779,c:0.9545623528258964, MSE: 0.031647444814890145\n",
            "Update 5: m1: 0.764487904562739,m2: 0.9379768053900938,c:0.9570586332996444, MSE: 0.03131117339335003\n",
            "Update 6: m1: 0.7653864230188268,m2: 0.938363192804161,c:0.9600475368444793, MSE: 0.030911064473513244\n",
            "Update 7: m1: 0.7664296032077583,m2: 0.9388103144339295,c:0.9635254612627187, MSE: 0.030448951335641357\n",
            "Update 8: m1: 0.7676151095236133,m2: 0.9393164898258242,c:0.9674882171366187, MSE: 0.029926947702386013\n",
            "Update 9: m1: 0.7689402828445541,m2: 0.9398798059221257,c:0.9719310338602414, MSE: 0.02934743641596509\n",
            "Update 10: m1: 0.7704021445591388,m2: 0.9404981200227416,c:0.9768485665076551, MSE: 0.028713056683821743\n",
            "\n",
            "\n",
            "\n"
          ]
        },
        {
          "output_type": "display_data",
          "data": {
            "text/plain": [
              "<Figure size 432x288 with 1 Axes>"
            ],
            "image/png": "[encoded data removed]"
          },
          "metadata": {
            "needs_background": "light"
          }
        }
      ]
    },
    {
      "cell_type": "code",
      "source": [
        "## 7. Do steps 3-5 when the model is 𝑦=tanh(𝑚∗𝑥+𝑐) and the true parameters are 𝑚=1 and 𝑐=2. And 𝑥∈(0,2). Also, plot the ground truth function.\n",
        "\n",
        "X=np.random.uniform(low=0, high=2, size=(100,))\n",
        "m=1\n",
        "c=2\n",
        "\n",
        "Y = np.tanh(1*X + 2)\n",
        "a=dict(zip(X,Y))\n",
        "\n",
        "\n",
        "\n",
        "learningRate1=0.001\n",
        "learningRate2=0.0001\n",
        "learningRate3=0.005\n",
        "num_update=10\n",
        "update=np.arange(num_update)\n",
        "\n",
        "\n",
        "c_gradient = 0\n",
        "m_gradient = 0\n",
        "m_current = np.random.random()\n",
        "c_current = np.random.random()\n",
        "\n",
        "error =  mse(Y, np.tanh(m_current*X + c_current))\n",
        "print(\"Initial m: \"+str(m_current)+\", c: \"+str(c_current)+\", MSE: \"+str(error))\n",
        "\n",
        "\n",
        "\n",
        "def upd1(X,Y,m_current,m_gradient,c_current,c_gradient,learningRate1,num_update,error):\n",
        "  e_list=[]\n",
        "  e_list.append(error)\n",
        "  print(\"\\n LR: \"+str(learningRate1))\n",
        "  for upd in range(num_update): \n",
        "    for i in range(len(X)):\n",
        "      x = X[i]\n",
        "      y = Y[i]\n",
        "      c_gradient += -(2/X.shape[0]) * (y - np.tanh(m_current*x + c_current))\n",
        "      m_gradient += -(2/X.shape[0]) * x * (y - np.tanh(m_current*x + c_current))\n",
        "    c_current = c_current - (learningRate1 * c_gradient)\n",
        "    m_current = m_current - (learningRate1 * m_gradient)\n",
        "    error =  mse(Y, np.tanh(m_current*X + c_current))\n",
        "    e_list.append(error)\n",
        "    print(\"Update \"+str(upd+1)+\": m: \"+str(m_current)+\", c:\"+str(c_current)+\", MSE: \"+str(error))\n",
        "  return e_list\n",
        "\n",
        "e_list1=upd1(X,Y,m_current,m_gradient,c_current,c_gradient,learningRate1,num_update,error)\n",
        "e_list2=upd1(X,Y,m_current,m_gradient,c_current,c_gradient,learningRate2,num_update,error)\n",
        "e_list3=upd1(X,Y,m_current,m_gradient,c_current,c_gradient,learningRate3,num_update,error)\n",
        "\n",
        "update = np.insert(update, 0, -1)\n",
        "update=update+1\n",
        "\n",
        "print(\"\\n\\n\")\n",
        "plt.plot(update,e_list1,\"red\",label='LR = 0.001')\n",
        "plt.plot(update,e_list2,\"blue\",label='LR = 0.0001')\n",
        "plt.plot(update,e_list3,\"green\",label='LR = 0.005')\n",
        "plt.title('Graph of Y = tanh(m*X + c) with Backpropagation')\n",
        "plt.xlabel('Update')\n",
        "plt.ylabel('Error')\n",
        "plt.legend()\n",
        "plt.show()"
      ],
      "metadata": {
        "colab": {
          "base_uri": "https://localhost:8080/",
          "height": 977
        },
        "id": "2cooTbFStqzv",
        "outputId": "7f2654d8-16d3-4e6b-9c63-cbf98f5d5e65"
      },
      "execution_count": null,
      "outputs": [
        {
          "output_type": "stream",
          "name": "stdout",
          "text": [
            "Initial m: 0.6915075931493916, c: 0.24068622385952976, MSE: 0.002119916155912338\n",
            "\n",
            " LR: 0.001\n",
            "Update 1: m: 0.6919123530909186, c:0.24132073340362487, MSE: 0.0021101179401234035\n",
            "Update 2: m: 0.6927211151104136, c:0.24258882690481595, MSE: 0.002090667104884742\n",
            "Update 3: m: 0.6939323686169205, c:0.2444886582185058, MSE: 0.002061851026152383\n",
            "Update 4: m: 0.6955438604980465, c:0.24701747064761406, MSE: 0.0020240913717198567\n",
            "Update 5: m: 0.6975526102642426, c:0.2501716118168754, MSE: 0.001977933226461488\n",
            "Update 6: m: 0.6999549299373085, c:0.25394655325861826, MSE: 0.0019240312390187478\n",
            "Update 7: m: 0.7027464484300541, c:0.25833691450362717, MSE: 0.0018631333026305143\n",
            "Update 8: m: 0.7059221401098517, c:0.26333649142523635, MSE: 0.00179606236222316\n",
            "Update 9: m: 0.7094763571903501, c:0.26893828854329066, MSE: 0.0017236969910803628\n",
            "Update 10: m: 0.7134028655537823, c:0.2751345549576882, MSE: 0.0016469514016974542\n",
            "\n",
            " LR: 0.0001\n",
            "Update 1: m: 0.6915480691435443, c:0.24074967481393927, MSE: 0.002118934383889733\n",
            "Update 2: m: 0.691629013547345, c:0.2408765674615346, MSE: 0.002116972304270448\n",
            "Update 3: m: 0.6917504111969335, c:0.2410668832849078, MSE: 0.002114032842045451\n",
            "Update 4: m: 0.6919122393593861, c:0.2413205945205402, MSE: 0.0021101203750638385\n",
            "Update 5: m: 0.6921144677481363, c:0.24163766417389923, MSE: 0.002105240722509476\n",
            "Update 6: m: 0.6923570585435059, c:0.2420180460395424, MSE: 0.0020994011296054846\n",
            "Update 7: m: 0.6926399664183174, c:0.242461684726207, MSE: 0.002092610248605132\n",
            "Update 8: m: 0.692963138568557, c:0.2429685156868585, MSE: 0.00208487811614192\n",
            "Update 9: m: 0.6933265147490475, c:0.24353846525366624, MSE: 0.002076216127025337\n",
            "Update 10: m: 0.6937300273140852, c:0.24417145067786808, MSE: 0.002066637004582066\n",
            "\n",
            " LR: 0.005\n",
            "Update 1: m: 0.6935313928570268, c:0.24385877158000535, MSE: 0.0020713556030918494\n",
            "Update 2: m: 0.6975601107485413, c:0.25018078674292793, MSE: 0.0019777821530888515\n",
            "Update 3: m: 0.7035566185778398, c:0.2596067319103123, MSE: 0.0018458376947856885\n",
            "Update 4: m: 0.7114667704367198, c:0.2720698257648272, MSE: 0.0016844352573109217\n",
            "Update 5: m: 0.721221148790907, c:0.2874837832210073, MSE: 0.0015037136456801732\n",
            "Update 6: m: 0.7327372206589409, c:0.30574499360176155, MSE: 0.0013139464315643067\n",
            "Update 7: m: 0.7459217773248894, c:0.3267350295513259, MSE: 0.001124572157967457\n",
            "Update 8: m: 0.7606735224272904, c:0.350323368936685, MSE: 0.0009434698513496115\n",
            "Update 9: m: 0.776885676074627, c:0.376370210168561, MSE: 0.0007765421978509162\n",
            "Update 10: m: 0.7944484756048596, c:0.40472926771289036, MSE: 0.0006276051521871789\n",
            "\n",
            "\n",
            "\n"
          ]
        },
        {
          "output_type": "display_data",
          "data": {
            "text/plain": [
              "<Figure size 432x288 with 1 Axes>"
            ],
            "image/png": "[encoded data removed]"
          },
          "metadata": {
            "needs_background": "light"
          }
        }
      ]
    },
    {
      "cell_type": "markdown",
      "source": [
        "# Question 3"
      ],
      "metadata": {
        "id": "ZTUCF2ztuSUT"
      }
    },
    {
      "cell_type": "code",
      "source": [
        "def logistic_regression_loss (W, b, X, y,lrate=0):\n",
        "  num_count = y.shape[0]\n",
        "\n",
        "  # regularization strength #Computing scores and probabilities \n",
        "  pred = np.dot (x, W) + b \n",
        "  exp_pred = np.exp (pred) \n",
        "  probs = exp_pred / np.sum (exp_pred, axis=1, keepdims=True) \n",
        "\n",
        "  #average cross-entropy loss and regulariza tion \n",
        "  logprobs = -np.log (probs [range (num_count),y]) \n",
        "  losss = np.sum (logprobs) /num_count \n",
        "\n",
        "  #Regulariza tion loss\n",
        "  if lrate != 0: \n",
        "    L1_loss = (lrate/2) * np.sum (W) \n",
        "    L2_loss = (lrate/2) * np.sum (W*W) \n",
        "    total_loss = L1_loss + L2_loss + losss \n",
        "  else:\n",
        "    total_loss = losss\n",
        "\n",
        "  return total_loss\n"
      ],
      "metadata": {
        "id": "lzDxIHZPtqxT"
      },
      "execution_count": null,
      "outputs": []
    },
    {
      "cell_type": "markdown",
      "source": [
        "# Question 4"
      ],
      "metadata": {
        "id": "JgDzpB_hugA5"
      }
    },
    {
      "cell_type": "code",
      "source": [
        "# Source: ThejaT GitHub Linear Classifier Example & Data Linear Classifier"
      ],
      "metadata": {
        "id": "lNgaywcRtqvB"
      },
      "execution_count": null,
      "outputs": []
    },
    {
      "cell_type": "code",
      "source": [
        "##1. Generate data from Data Linear Classifier "
      ],
      "metadata": {
        "id": "EJvTi5Xotqsh"
      },
      "execution_count": null,
      "outputs": []
    },
    {
      "cell_type": "code",
      "source": [
        "# Imports\n",
        "\n",
        "import numpy as np\n",
        "import pickle"
      ],
      "metadata": {
        "id": "vnr55pdZtqp-"
      },
      "execution_count": null,
      "outputs": []
    },
    {
      "cell_type": "code",
      "source": [
        "# Points Per Class\n",
        "N = 100 \n",
        "\n",
        "# Dimensions\n",
        "D = 2 \n",
        "\n",
        "# Number of Classes\n",
        "K = 3 \n",
        "\n",
        "X = np.zeros((N*K,D))\n",
        "y = np.zeros(N*K, dtype='uint8')\n",
        "for j in range(K):\n",
        "  ix = range(N*j,N*(j+1))\n",
        "  r = np.linspace(0.0,1,N) # radius\n",
        "  t = np.linspace(j*4,(j+1)*4,N) + np.random.randn(N)*0.2 # Theta\n",
        "  X[ix] = np.c_[r*np.sin(t), r*np.cos(t)]\n",
        "  y[ix] = j"
      ],
      "metadata": {
        "id": "kQNYs-jStqnd"
      },
      "execution_count": null,
      "outputs": []
    },
    {
      "cell_type": "code",
      "source": [
        "pickle.dump(X,open('dataX.pickle', 'wb'))\n",
        "pickle.dump(y,open('datay.pickle','wb'))"
      ],
      "metadata": {
        "id": "-fiaHn_HtqlF"
      },
      "execution_count": null,
      "outputs": []
    },
    {
      "cell_type": "code",
      "source": [
        "# Imports for plotting\n",
        "\n",
        "import matplotlib.pyplot as plt \n",
        "np.random.seed(0) "
      ],
      "metadata": {
        "id": "kXNJlxi78WjK"
      },
      "execution_count": null,
      "outputs": []
    },
    {
      "cell_type": "code",
      "source": [
        "# Set Size for Plots\n",
        "\n",
        "%matplotlib inline\n",
        "plt.rcParams['figure.figsize'] = (10.0, 8.0)\n",
        "plt.rcParams['image.interpolation'] = 'nearest'\n",
        "plt.rcParams['image.cmap'] = 'gray'"
      ],
      "metadata": {
        "id": "XnsSwhdp8Yai"
      },
      "execution_count": null,
      "outputs": []
    },
    {
      "cell_type": "code",
      "source": [
        "# Begin working with data that has been generated\n",
        "\n",
        "X = pickle.load(open('dataX.pickle','rb'))\n",
        "y = pickle.load(open('datay.pickle','rb'))"
      ],
      "metadata": {
        "id": "I_t9jWBf8ajZ"
      },
      "execution_count": null,
      "outputs": []
    },
    {
      "cell_type": "code",
      "source": [
        "# Set number of features\n",
        "D = X.shape[1] \n",
        "\n",
        "# Number of classes assuming class index at 0\n",
        "K = max(y)+1 "
      ],
      "metadata": {
        "id": "dkbtwc8V8dct"
      },
      "execution_count": null,
      "outputs": []
    },
    {
      "cell_type": "code",
      "source": [
        "# Plot generated data\n",
        "\n",
        "fig = plt.figure() \n",
        "plt.scatter(X[:, 0], X[:, 1], c=y, s=40, cmap=plt.cm.Spectral)"
      ],
      "metadata": {
        "colab": {
          "base_uri": "https://localhost:8080/",
          "height": 521
        },
        "id": "Wi-PUSmu8fhz",
        "outputId": "34ac83d3-5ad6-40b4-fd97-d10bde6fbc9d"
      },
      "execution_count": null,
      "outputs": [
        {
          "output_type": "execute_result",
          "data": {
            "text/plain": [
              "<matplotlib.collections.PathCollection at 0x7ff7078e4390>"
            ]
          },
          "metadata": {},
          "execution_count": 25
        },
        {
          "output_type": "display_data",
          "data": {
            "text/plain": [
              "<Figure size 720x576 with 1 Axes>"
            ],
            "image/png": "[encoded data removed]"
          },
          "metadata": {
            "needs_background": "light"
          }
        }
      ]
    },
    {
      "cell_type": "code",
      "source": [
        "##2. Split the Data into test and train (20/80)\n",
        "\n",
        "# Imports for split\n",
        "\n",
        "import sklearn\n",
        "from sklearn.model_selection import train_test_split"
      ],
      "metadata": {
        "id": "I-0nzSOE8hoY"
      },
      "execution_count": null,
      "outputs": []
    },
    {
      "cell_type": "code",
      "source": [
        "# Test size set to .2 for 20%\n",
        "# We will explore model performance with a different train/test split later in question\n",
        "\n",
        "X_train, X_test, y_train, y_test = train_test_split(X, y, test_size=0.2)"
      ],
      "metadata": {
        "id": "h2GMOgam8miM"
      },
      "execution_count": null,
      "outputs": []
    },
    {
      "cell_type": "code",
      "source": [
        "# Confirm Split\n",
        "# 240 training examples (80 percent) & 60 test examples (20 percent)\n",
        "\n",
        "print(X_train.shape, y_train.shape)\n",
        "print(X_test.shape, y_test.shape)"
      ],
      "metadata": {
        "colab": {
          "base_uri": "https://localhost:8080/"
        },
        "id": "njTmvscQ8ocn",
        "outputId": "d3281fb7-1deb-4d7c-9a1b-46d53564cab2"
      },
      "execution_count": null,
      "outputs": [
        {
          "output_type": "stream",
          "name": "stdout",
          "text": [
            "(240, 2) (240,)\n",
            "(60, 2) (60,)\n"
          ]
        }
      ]
    },
    {
      "cell_type": "code",
      "source": [
        "##3. Build a linear classifier assuming the multiclass logistic loss and L2 regularization for the weights only\n",
        "##3 cont. Report prediction accuracy on the training data and the test data and show appropriate plots"
      ],
      "metadata": {
        "id": "3by1eMLB8v6t"
      },
      "execution_count": null,
      "outputs": []
    },
    {
      "cell_type": "code",
      "source": [
        "# Start by initializing parameters randomly \n",
        "\n",
        "W = 0.01 * np.random.randn(D,K)\n",
        "b = np.zeros((1,K))"
      ],
      "metadata": {
        "id": "EwFQdacK8qDK"
      },
      "execution_count": null,
      "outputs": []
    },
    {
      "cell_type": "code",
      "source": [
        "# We set an initial regularization strength of 1e-3 but will change this parameter as needed throughout assignment\n",
        "\n",
        "reg = 1e-3"
      ],
      "metadata": {
        "id": "scgb9kCA8r2T"
      },
      "execution_count": null,
      "outputs": []
    },
    {
      "cell_type": "code",
      "source": [
        "# We will set number of examples equal to the number of training points\n",
        "# We will not alter batch size in this assignment \n",
        "\n",
        "num_examples = X_train.shape[0]"
      ],
      "metadata": {
        "id": "ehcHG5CM8ttU"
      },
      "execution_count": null,
      "outputs": []
    },
    {
      "cell_type": "code",
      "source": [
        "# We set an initial learning rate of 1e-1 but will change this parameter as needed throughout assignment\n",
        "\n",
        "step_size = 1e-1"
      ],
      "metadata": {
        "id": "yfwO-qMX81Ou"
      },
      "execution_count": null,
      "outputs": []
    },
    {
      "cell_type": "code",
      "source": [
        "# We set initial number of iterations to 200 but will change this number as needed throughout assignment\n",
        "\n",
        "for i in range(200):\n",
        "  \n",
        "    # Class Scores\n",
        "    scores = np.dot(X_train, W) + b \n",
        "  \n",
        "    # Class Probabilities\n",
        "    exp_scores = np.exp(scores)\n",
        "    probs = exp_scores / np.sum(exp_scores, axis=1, keepdims=True) # [N x K]\n",
        "  \n",
        "    # Multiclass Logistic Loss and Regularization Loss\n",
        "    corect_logprobs = -np.log(probs[range(num_examples),y_train])\n",
        "    data_loss = np.sum(corect_logprobs)/num_examples\n",
        "    reg_loss = 0.5*reg*np.sum(W*W)\n",
        "    loss = data_loss + reg_loss\n",
        "    # Print loss through each 10 iterations\n",
        "    if i % 10 == 0:\n",
        "        print(\"iteration: \"+str(i) +\" loss: \"+str(loss))\n",
        "  \n",
        "    # Compute the gradient on scores\n",
        "    dscores = probs\n",
        "    dscores[range(num_examples),y_train] -= 1\n",
        "    dscores /= num_examples\n",
        "  \n",
        "    # Backpropagate the gradient to our parameters (W,b)\n",
        "    dW = np.dot(X_train.T, dscores)\n",
        "    db = np.sum(dscores, axis=0, keepdims=True)\n",
        "  \n",
        "    # Regularization Gradient\n",
        "    dW += reg*W \n",
        "  \n",
        "    # Parameter Update (with learning rate)\n",
        "    W += -step_size * dW\n",
        "    b += -step_size * db"
      ],
      "metadata": {
        "id": "6YcrVsNa8-sV"
      },
      "execution_count": null,
      "outputs": []
    },
    {
      "cell_type": "code",
      "source": [
        "scores[1,]"
      ],
      "metadata": {
        "colab": {
          "base_uri": "https://localhost:8080/"
        },
        "id": "qRg5McCN9ChF",
        "outputId": "06e7e672-a812-47ce-ed70-d05ff9ef6476"
      },
      "execution_count": null,
      "outputs": [
        {
          "output_type": "execute_result",
          "data": {
            "text/plain": [
              "array([-0.54262063,  0.40605866,  0.14270905])"
            ]
          },
          "metadata": {},
          "execution_count": 35
        }
      ]
    },
    {
      "cell_type": "markdown",
      "source": [
        "We report an initial training accuracy of approximately .51 based on the initial parameters of our linear classifier. We will later attempt to customize parameters to improve this training accuracy. "
      ],
      "metadata": {
        "id": "SAg4far39HiU"
      }
    },
    {
      "cell_type": "code",
      "source": [
        "scores = np.dot(X_train, W) + b\n",
        "predicted_class = np.argmax(scores, axis=1)\n",
        "print('Training Accuracy: {0}'.format(np.mean(predicted_class == y_train)))"
      ],
      "metadata": {
        "colab": {
          "base_uri": "https://localhost:8080/"
        },
        "id": "tYjsRTtv9ElD",
        "outputId": "97dfa64e-b8d8-4717-ff94-ecec8874edcc"
      },
      "execution_count": null,
      "outputs": [
        {
          "output_type": "stream",
          "name": "stdout",
          "text": [
            "Training Accuracy: 0.5166666666666667\n"
          ]
        }
      ]
    },
    {
      "cell_type": "code",
      "source": [
        "# Initial plot based on training data\n",
        "\n",
        "h = 0.02\n",
        "x_min, x_max = X_train[:, 0].min() - 1, X_train[:, 0].max() + 1\n",
        "y_min, y_max = X_train[:, 1].min() - 1, X_train[:, 1].max() + 1\n",
        "xx, yy = np.meshgrid(np.arange(x_min, x_max, h),\n",
        "                     np.arange(y_min, y_max, h))\n",
        "Z = np.dot(np.c_[xx.ravel(), yy.ravel()], W) + b\n",
        "Z = np.argmax(Z, axis=1)\n",
        "Z = Z.reshape(xx.shape)\n",
        "fig = plt.figure()\n",
        "plt.contourf(xx, yy, Z, cmap=plt.cm.Spectral, alpha=0.8)\n",
        "plt.scatter(X_train[:, 0], X_train[:, 1], c=y_train, s=40, cmap=plt.cm.Spectral)\n",
        "plt.xlim(xx.min(), xx.max())\n",
        "plt.ylim(yy.min(), yy.max())"
      ],
      "metadata": {
        "colab": {
          "base_uri": "https://localhost:8080/",
          "height": 520
        },
        "id": "qKabaWio9KX-",
        "outputId": "5b6a96c7-5450-4985-e4a1-ece62119d7d6"
      },
      "execution_count": null,
      "outputs": [
        {
          "output_type": "execute_result",
          "data": {
            "text/plain": [
              "(-1.8755980440759308, 1.9044019559240726)"
            ]
          },
          "metadata": {},
          "execution_count": 37
        },
        {
          "output_type": "display_data",
          "data": {
            "text/plain": [
              "<Figure size 720x576 with 1 Axes>"
            ],
            "image/png": "[encoded data removed]"
          },
          "metadata": {
            "needs_background": "light"
          }
        }
      ]
    },
    {
      "cell_type": "markdown",
      "source": [
        "We report an initial test accuracy of approximately 0.45 based on the initial parameters of our linear classifier. Of course, this is quite low given that a random accuracy would be one-third accurate. We will later attempt to customize these parameters to improve this test accuracy. \n",
        "\n",
        "---\n",
        "\n"
      ],
      "metadata": {
        "id": "7HZMtdLJ9TxR"
      }
    },
    {
      "cell_type": "code",
      "source": [
        "scores = np.dot(X_test, W) + b\n",
        "predicted_class = np.argmax(scores, axis=1)\n",
        "print('Test Accuracy: {0}'.format(np.mean(predicted_class == y_test)))"
      ],
      "metadata": {
        "colab": {
          "base_uri": "https://localhost:8080/"
        },
        "id": "w_BSrI2X9Mdy",
        "outputId": "b5a47ac2-e634-4725-f4d2-91d3ea7ba137"
      },
      "execution_count": null,
      "outputs": [
        {
          "output_type": "stream",
          "name": "stdout",
          "text": [
            "Test Accuracy: 0.45\n"
          ]
        }
      ]
    },
    {
      "cell_type": "code",
      "source": [
        "# Initial Plot Based on Test Data\n",
        "\n",
        "h = 0.02\n",
        "x_min, x_max = X_test[:, 0].min() - 1, X_test[:, 0].max() + 1\n",
        "y_min, y_max = X_test[:, 1].min() - 1, X_test[:, 1].max() + 1\n",
        "xx, yy = np.meshgrid(np.arange(x_min, x_max, h),\n",
        "                     np.arange(y_min, y_max, h))\n",
        "Z = np.dot(np.c_[xx.ravel(), yy.ravel()], W) + b\n",
        "Z = np.argmax(Z, axis=1)\n",
        "Z = Z.reshape(xx.shape)\n",
        "fig = plt.figure()\n",
        "plt.contourf(xx, yy, Z, cmap=plt.cm.Spectral, alpha=0.8)\n",
        "plt.scatter(X_test[:, 0], X_test[:, 1], c=y_test, s=40, cmap=plt.cm.Spectral)\n",
        "plt.xlim(xx.min(), xx.max())\n",
        "plt.ylim(yy.min(), yy.max())"
      ],
      "metadata": {
        "colab": {
          "base_uri": "https://localhost:8080/",
          "height": 520
        },
        "id": "eFdtCUne9ZNS",
        "outputId": "2343a2ee-bf17-46a8-b359-19d3f3a38183"
      },
      "execution_count": null,
      "outputs": [
        {
          "output_type": "execute_result",
          "data": {
            "text/plain": [
              "(-1.8579518721452986, 1.8820481278547048)"
            ]
          },
          "metadata": {},
          "execution_count": 39
        },
        {
          "output_type": "display_data",
          "data": {
            "text/plain": [
              "<Figure size 720x576 with 1 Axes>"
            ],
            "image/png": "[encoded data removed]"
          },
          "metadata": {
            "needs_background": "light"
          }
        }
      ]
    },
    {
      "cell_type": "code",
      "source": [
        "##4. Introduce a cross validation scheme and justify your choice of parameters\n",
        "##4 cont. What is the validation accuracy compared to the test accuracy?"
      ],
      "metadata": {
        "id": "Iho1fGJw9bBl"
      },
      "execution_count": null,
      "outputs": []
    },
    {
      "cell_type": "code",
      "source": [
        "# Sources: Jason Brownlee of Machine Learning Mastery, and Lyashenko & Ja of Neptune Blog, and SciKitLearn Tutorial\n",
        "\n",
        "from sklearn.model_selection import KFold\n",
        "from sklearn.model_selection import cross_val_score\n",
        "\n",
        "from sklearn.linear_model import LogisticRegression\n",
        "from sklearn import datasets\n",
        "from sklearn import svm\n",
        "from sklearn.model_selection import StratifiedKFold"
      ],
      "metadata": {
        "id": "1mku8kQ49dI5"
      },
      "execution_count": null,
      "outputs": []
    },
    {
      "cell_type": "code",
      "source": [
        "skf = StratifiedKFold(n_splits=5)"
      ],
      "metadata": {
        "id": "-Ov3rhF_9iWX"
      },
      "execution_count": null,
      "outputs": []
    },
    {
      "cell_type": "code",
      "source": [
        "skf.get_n_splits(X, y)"
      ],
      "metadata": {
        "colab": {
          "base_uri": "https://localhost:8080/"
        },
        "id": "7intm2Ef9kDp",
        "outputId": "48c98f5a-9a16-4593-a027-7d1cd90538be"
      },
      "execution_count": null,
      "outputs": [
        {
          "output_type": "execute_result",
          "data": {
            "text/plain": [
              "5"
            ]
          },
          "metadata": {},
          "execution_count": 43
        }
      ]
    },
    {
      "cell_type": "code",
      "source": [
        "print(skf)"
      ],
      "metadata": {
        "colab": {
          "base_uri": "https://localhost:8080/"
        },
        "id": "JYfgI2pz9lew",
        "outputId": "e84a573f-4847-46e5-c426-c18835766003"
      },
      "execution_count": null,
      "outputs": [
        {
          "output_type": "stream",
          "name": "stdout",
          "text": [
            "StratifiedKFold(n_splits=5, random_state=None, shuffle=False)\n"
          ]
        }
      ]
    },
    {
      "cell_type": "code",
      "source": [
        "for train_index, test_index in skf.split(X, y):\n",
        "  print(\"TRAIN:\", train_index, \"TEST:\", test_index)\n",
        "  X_train2, X_test2 = X[train_index], X[test_index]\n",
        "  y_train2, y_test2 = y[train_index], y[test_index]"
      ],
      "metadata": {
        "id": "JUrsNZXN9m6J"
      },
      "execution_count": null,
      "outputs": []
    },
    {
      "cell_type": "code",
      "source": [
        "X_train2 = X[train_index]\n",
        "y_train2 = y[train_index]\n",
        "X_test2 = X[test_index]\n",
        "y_test2 = y[test_index]"
      ],
      "metadata": {
        "id": "qcmC4ESV9o41"
      },
      "execution_count": null,
      "outputs": []
    },
    {
      "cell_type": "code",
      "source": [
        "scores = np.dot(X_train2, W) + b\n",
        "predicted_class = np.argmax(scores, axis=1)\n",
        "print('Training Accuracy: {0}'.format(np.mean(predicted_class == y_train2)))"
      ],
      "metadata": {
        "colab": {
          "base_uri": "https://localhost:8080/"
        },
        "id": "i7jbsCfg9rob",
        "outputId": "7ee21636-f7ef-42fc-d8a3-7099b89b9554"
      },
      "execution_count": null,
      "outputs": [
        {
          "output_type": "stream",
          "name": "stdout",
          "text": [
            "Training Accuracy: 0.4708333333333333\n"
          ]
        }
      ]
    },
    {
      "cell_type": "code",
      "source": [
        "scores = np.dot(X_test2, W) + b\n",
        "predicted_class = np.argmax(scores, axis=1)\n",
        "print('Test Accuracy: {0}'.format(np.mean(predicted_class == y_test2)))"
      ],
      "metadata": {
        "colab": {
          "base_uri": "https://localhost:8080/"
        },
        "id": "yOMZn0nT9tV4",
        "outputId": "219021a5-0b5f-4939-bef4-33928d005d16"
      },
      "execution_count": null,
      "outputs": [
        {
          "output_type": "stream",
          "name": "stdout",
          "text": [
            "Test Accuracy: 0.6333333333333333\n"
          ]
        }
      ]
    },
    {
      "cell_type": "markdown",
      "source": [
        "We utilized Stratified K-Fold Cross Validation Method and declared five splits on the data. After splitting data in this manner, we saw a decrease in training accuracy, but an increase in test accuracy, which rose to approximately 0.63 using this method. "
      ],
      "metadata": {
        "id": "bTCHJmAQ9vHT"
      }
    },
    {
      "cell_type": "code",
      "source": [
        "##5. What is the sensitivity of the model's performance to different learning rates and the number of gradient descent iterations?\n",
        "# Describe via suitable plots"
      ],
      "metadata": {
        "id": "mTzmYw2g9yhr"
      },
      "execution_count": null,
      "outputs": []
    },
    {
      "cell_type": "markdown",
      "source": [
        "Through our experimentation, we found that as the number of gradient iterations increased, the model was prone to overfitting. The training accuracy improved, but the test accuracy often did not. \n",
        "\n",
        "Ultimately, though, more gradient descent iterations was an optimal decision when using a slower learning rate. If we used a slower learning rate and failed to add iterations, the model would struggle to learn the data. \n",
        "\n",
        "Below is an example of the relationship between gradient descent iterations and learning rate. With a slower learning rate of 1e-4, 500 iterations (or fewer) struggles to model the data. However, with 10,000 iterations, the model improves. This is just one example of this relationship."
      ],
      "metadata": {
        "id": "sBmsATs895I2"
      }
    },
    {
      "cell_type": "code",
      "source": [
        "X_train, X_test, y_train, y_test = train_test_split(X, y, test_size=0.2)"
      ],
      "metadata": {
        "id": "q0Uo5yFg91c5"
      },
      "execution_count": null,
      "outputs": []
    },
    {
      "cell_type": "code",
      "source": [
        "W = 0.01 * np.random.randn(D,K)\n",
        "b = np.zeros((1,K))"
      ],
      "metadata": {
        "id": "q0a3diXq-AKy"
      },
      "execution_count": null,
      "outputs": []
    },
    {
      "cell_type": "code",
      "source": [
        "reg = 1e-3"
      ],
      "metadata": {
        "id": "wXmGnaWf-BxT"
      },
      "execution_count": null,
      "outputs": []
    },
    {
      "cell_type": "code",
      "source": [
        "num_examples = X_train.shape[0]"
      ],
      "metadata": {
        "id": "EvLURwoF-DdX"
      },
      "execution_count": null,
      "outputs": []
    },
    {
      "cell_type": "code",
      "source": [
        "# Slower Learning Rate\n",
        "\n",
        "step_size = 1e-4"
      ],
      "metadata": {
        "id": "4BndMfCM-Gi4"
      },
      "execution_count": null,
      "outputs": []
    },
    {
      "cell_type": "code",
      "source": [
        "# Fewer Iterations\n",
        "\n",
        "for i in range(500):\n",
        "  \n",
        "    # Class Scores\n",
        "    scores = np.dot(X_train, W) + b \n",
        "  \n",
        "    # Class Probabilities\n",
        "    exp_scores = np.exp(scores)\n",
        "    probs = exp_scores / np.sum(exp_scores, axis=1, keepdims=True) # [N x K]\n",
        "  \n",
        "    # Multiclass Logistic Loss and Regularization Loss\n",
        "    corect_logprobs = -np.log(probs[range(num_examples),y_train])\n",
        "    data_loss = np.sum(corect_logprobs)/num_examples\n",
        "    reg_loss = 0.5*reg*np.sum(W*W)\n",
        "    loss = data_loss + reg_loss\n",
        "    # Print loss through each 10 iterations\n",
        "    if i % 10 == 0:\n",
        "        print(\"iteration: \"+str(i) +\" loss: \"+str(loss))\n",
        "  \n",
        "    # Compute the gradient on scores\n",
        "    dscores = probs\n",
        "    dscores[range(num_examples),y_train] -= 1\n",
        "    dscores /= num_examples\n",
        "  \n",
        "    # Backpropagate the gradient to our parameters (W,b)\n",
        "    dW = np.dot(X_train.T, dscores)\n",
        "    db = np.sum(dscores, axis=0, keepdims=True)\n",
        "  \n",
        "    # Regularization Gradient\n",
        "    dW += reg*W \n",
        "  \n",
        "    # Parameter Update (with learning rate)\n",
        "    W += -step_size * dW\n",
        "    b += -step_size * db"
      ],
      "metadata": {
        "id": "16mM9qa6-IIV"
      },
      "execution_count": null,
      "outputs": []
    },
    {
      "cell_type": "code",
      "source": [
        "scores = np.dot(X_train, W) + b\n",
        "predicted_class = np.argmax(scores, axis=1)\n",
        "print('Training Accuracy: {0}'.format(np.mean(predicted_class == y_train)))"
      ],
      "metadata": {
        "colab": {
          "base_uri": "https://localhost:8080/"
        },
        "id": "R0fck6k9-SBH",
        "outputId": "a9a85e4a-6a04-4117-e1b5-dbf35973e997"
      },
      "execution_count": null,
      "outputs": [
        {
          "output_type": "stream",
          "name": "stdout",
          "text": [
            "Training Accuracy: 0.42916666666666664\n"
          ]
        }
      ]
    },
    {
      "cell_type": "code",
      "source": [
        "# Plot based on training data with slower learning rate and too few iterations\n",
        "\n",
        "h = 0.02\n",
        "x_min, x_max = X_train[:, 0].min() - 1, X_train[:, 0].max() + 1\n",
        "y_min, y_max = X_train[:, 1].min() - 1, X_train[:, 1].max() + 1\n",
        "xx, yy = np.meshgrid(np.arange(x_min, x_max, h),\n",
        "                     np.arange(y_min, y_max, h))\n",
        "Z = np.dot(np.c_[xx.ravel(), yy.ravel()], W) + b\n",
        "Z = np.argmax(Z, axis=1)\n",
        "Z = Z.reshape(xx.shape)\n",
        "fig = plt.figure()\n",
        "plt.contourf(xx, yy, Z, cmap=plt.cm.Spectral, alpha=0.8)\n",
        "plt.scatter(X_train[:, 0], X_train[:, 1], c=y_train, s=40, cmap=plt.cm.Spectral)\n",
        "plt.xlim(xx.min(), xx.max())\n",
        "plt.ylim(yy.min(), yy.max())"
      ],
      "metadata": {
        "colab": {
          "base_uri": "https://localhost:8080/",
          "height": 520
        },
        "id": "_17FHls4-Tc-",
        "outputId": "6b23823f-2f94-4cc8-9ac2-b03e8841f354"
      },
      "execution_count": null,
      "outputs": [
        {
          "output_type": "execute_result",
          "data": {
            "text/plain": [
              "(-1.8755980440759308, 1.9044019559240726)"
            ]
          },
          "metadata": {},
          "execution_count": 57
        },
        {
          "output_type": "display_data",
          "data": {
            "text/plain": [
              "<Figure size 720x576 with 1 Axes>"
            ],
            "image/png": "[encoded data removed]"
          },
          "metadata": {
            "needs_background": "light"
          }
        }
      ]
    },
    {
      "cell_type": "code",
      "source": [
        "scores = np.dot(X_test, W) + b\n",
        "predicted_class = np.argmax(scores, axis=1)\n",
        "print('Test Accuracy: {0}'.format(np.mean(predicted_class == y_test)))"
      ],
      "metadata": {
        "colab": {
          "base_uri": "https://localhost:8080/"
        },
        "id": "asy1322T-VTR",
        "outputId": "77838fc2-8132-4cb3-e3c5-c8de545a1d64"
      },
      "execution_count": null,
      "outputs": [
        {
          "output_type": "stream",
          "name": "stdout",
          "text": [
            "Test Accuracy: 0.35\n"
          ]
        }
      ]
    },
    {
      "cell_type": "code",
      "source": [
        "# Plot based on test data with slower learning rate and too few iterations\n",
        "\n",
        "h = 0.02\n",
        "x_min, x_max = X_test[:, 0].min() - 1, X_test[:, 0].max() + 1\n",
        "y_min, y_max = X_test[:, 1].min() - 1, X_test[:, 1].max() + 1\n",
        "xx, yy = np.meshgrid(np.arange(x_min, x_max, h),\n",
        "                     np.arange(y_min, y_max, h))\n",
        "Z = np.dot(np.c_[xx.ravel(), yy.ravel()], W) + b\n",
        "Z = np.argmax(Z, axis=1)\n",
        "Z = Z.reshape(xx.shape)\n",
        "fig = plt.figure()\n",
        "plt.contourf(xx, yy, Z, cmap=plt.cm.Spectral, alpha=0.8)\n",
        "plt.scatter(X_test[:, 0], X_test[:, 1], c=y_test, s=40, cmap=plt.cm.Spectral)\n",
        "plt.xlim(xx.min(), xx.max())\n",
        "plt.ylim(yy.min(), yy.max())"
      ],
      "metadata": {
        "colab": {
          "base_uri": "https://localhost:8080/",
          "height": 520
        },
        "id": "dCY4SjRc-ZyB",
        "outputId": "a55af752-cb9c-4993-8d3d-407ee558bf63"
      },
      "execution_count": null,
      "outputs": [
        {
          "output_type": "execute_result",
          "data": {
            "text/plain": [
              "(-1.8392574334736982, 1.740742566526305)"
            ]
          },
          "metadata": {},
          "execution_count": 59
        },
        {
          "output_type": "display_data",
          "data": {
            "text/plain": [
              "<Figure size 720x576 with 1 Axes>"
            ],
            "image/png": "[encoded data removed]"
          },
          "metadata": {
            "needs_background": "light"
          }
        }
      ]
    },
    {
      "cell_type": "code",
      "source": [
        "# Same slow learning rate\n",
        "\n",
        "step_size = 1e-4"
      ],
      "metadata": {
        "id": "tPaKm8gQ-cOq"
      },
      "execution_count": null,
      "outputs": []
    },
    {
      "cell_type": "code",
      "source": [
        "# But with more iterations\n",
        "for i in range(10000):\n",
        "  \n",
        "    # Class Scores\n",
        "    scores = np.dot(X_train, W) + b \n",
        "  \n",
        "    # Class Probabilities\n",
        "    exp_scores = np.exp(scores)\n",
        "    probs = exp_scores / np.sum(exp_scores, axis=1, keepdims=True) # [N x K]\n",
        "  \n",
        "    # Multiclass Logistic Loss and Regularization Loss\n",
        "    corect_logprobs = -np.log(probs[range(num_examples),y_train])\n",
        "    data_loss = np.sum(corect_logprobs)/num_examples\n",
        "    reg_loss = 0.5*reg*np.sum(W*W)\n",
        "    loss = data_loss + reg_loss\n",
        "    # Print loss through each 10 iterations\n",
        "    if i % 10 == 0:\n",
        "        print(\"iteration: \"+str(i) +\" loss: \"+str(loss))\n",
        "  \n",
        "    # Compute the gradient on scores\n",
        "    dscores = probs\n",
        "    dscores[range(num_examples),y_train] -= 1\n",
        "    dscores /= num_examples\n",
        "  \n",
        "    # Backpropagate the gradient to our parameters (W,b)\n",
        "    dW = np.dot(X_train.T, dscores)\n",
        "    db = np.sum(dscores, axis=0, keepdims=True)\n",
        "  \n",
        "    # Regularization Gradient\n",
        "    dW += reg*W \n",
        "  \n",
        "    # Parameter Update (with learning rate)\n",
        "    W += -step_size * dW\n",
        "    b += -step_size * db"
      ],
      "metadata": {
        "id": "Vd9blXrg-eAX"
      },
      "execution_count": null,
      "outputs": []
    },
    {
      "cell_type": "code",
      "source": [
        "scores = np.dot(X_train, W) + b\n",
        "predicted_class = np.argmax(scores, axis=1)\n",
        "print('Training Accuracy: {0}'.format(np.mean(predicted_class == y_train)))"
      ],
      "metadata": {
        "colab": {
          "base_uri": "https://localhost:8080/"
        },
        "id": "28bDPUyh-g2w",
        "outputId": "fa51b045-9a3d-489a-ed92-ab561c674279"
      },
      "execution_count": null,
      "outputs": [
        {
          "output_type": "stream",
          "name": "stdout",
          "text": [
            "Training Accuracy: 0.5125\n"
          ]
        }
      ]
    },
    {
      "cell_type": "code",
      "source": [
        "# Plot based on training data with slower learning but more iterations\n",
        "\n",
        "h = 0.02\n",
        "x_min, x_max = X_train[:, 0].min() - 1, X_train[:, 0].max() + 1\n",
        "y_min, y_max = X_train[:, 1].min() - 1, X_train[:, 1].max() + 1\n",
        "xx, yy = np.meshgrid(np.arange(x_min, x_max, h),\n",
        "                     np.arange(y_min, y_max, h))\n",
        "Z = np.dot(np.c_[xx.ravel(), yy.ravel()], W) + b\n",
        "Z = np.argmax(Z, axis=1)\n",
        "Z = Z.reshape(xx.shape)\n",
        "fig = plt.figure()\n",
        "plt.contourf(xx, yy, Z, cmap=plt.cm.Spectral, alpha=0.8)\n",
        "plt.scatter(X_train[:, 0], X_train[:, 1], c=y_train, s=40, cmap=plt.cm.Spectral)\n",
        "plt.xlim(xx.min(), xx.max())\n",
        "plt.ylim(yy.min(), yy.max())"
      ],
      "metadata": {
        "colab": {
          "base_uri": "https://localhost:8080/",
          "height": 520
        },
        "id": "vi24aMPO-joJ",
        "outputId": "1588628f-e5d3-41b6-8886-bbb10a7db272"
      },
      "execution_count": null,
      "outputs": [
        {
          "output_type": "execute_result",
          "data": {
            "text/plain": [
              "(-1.8755980440759308, 1.9044019559240726)"
            ]
          },
          "metadata": {},
          "execution_count": 63
        },
        {
          "output_type": "display_data",
          "data": {
            "text/plain": [
              "<Figure size 720x576 with 1 Axes>"
            ],
            "image/png": "[encoded data removed]"
          },
          "metadata": {
            "needs_background": "light"
          }
        }
      ]
    },
    {
      "cell_type": "code",
      "source": [
        "scores = np.dot(X_test, W) + b\n",
        "predicted_class = np.argmax(scores, axis=1)\n",
        "print('Test Accuracy: {0}'.format(np.mean(predicted_class == y_test)))"
      ],
      "metadata": {
        "colab": {
          "base_uri": "https://localhost:8080/"
        },
        "id": "40vbVtST-l6w",
        "outputId": "008c1146-c6cc-43d7-8662-91c8b3bbe03b"
      },
      "execution_count": null,
      "outputs": [
        {
          "output_type": "stream",
          "name": "stdout",
          "text": [
            "Test Accuracy: 0.5166666666666667\n"
          ]
        }
      ]
    },
    {
      "cell_type": "code",
      "source": [
        "# Plot based on test data with more iterations\n",
        "\n",
        "h = 0.02\n",
        "x_min, x_max = X_test[:, 0].min() - 1, X_test[:, 0].max() + 1\n",
        "y_min, y_max = X_test[:, 1].min() - 1, X_test[:, 1].max() + 1\n",
        "xx, yy = np.meshgrid(np.arange(x_min, x_max, h),\n",
        "                     np.arange(y_min, y_max, h))\n",
        "Z = np.dot(np.c_[xx.ravel(), yy.ravel()], W) + b\n",
        "Z = np.argmax(Z, axis=1)\n",
        "Z = Z.reshape(xx.shape)\n",
        "fig = plt.figure()\n",
        "plt.contourf(xx, yy, Z, cmap=plt.cm.Spectral, alpha=0.8)\n",
        "plt.scatter(X_test[:, 0], X_test[:, 1], c=y_test, s=40, cmap=plt.cm.Spectral)\n",
        "plt.xlim(xx.min(), xx.max())\n",
        "plt.ylim(yy.min(), yy.max())"
      ],
      "metadata": {
        "colab": {
          "base_uri": "https://localhost:8080/",
          "height": 520
        },
        "id": "OV2eB0io-n8_",
        "outputId": "6b7acde9-87a3-421e-cb58-1219c2b9ce8b"
      },
      "execution_count": null,
      "outputs": [
        {
          "output_type": "execute_result",
          "data": {
            "text/plain": [
              "(-1.8392574334736982, 1.740742566526305)"
            ]
          },
          "metadata": {},
          "execution_count": 65
        },
        {
          "output_type": "display_data",
          "data": {
            "text/plain": [
              "<Figure size 720x576 with 1 Axes>"
            ],
            "image/png": "[encoded data removed]"
          },
          "metadata": {
            "needs_background": "light"
          }
        }
      ]
    },
    {
      "cell_type": "code",
      "source": [
        "##6. What is the sensitivity of the model's performance to different regularization parameter values?\n",
        "## Find best regularization parameter using an exhaustive search procedure \n",
        "# Describe your choice via suitable plots\n",
        "# What is the performance difference between using regularization and no regularization"
      ],
      "metadata": {
        "id": "igO3Nizr-rFN"
      },
      "execution_count": null,
      "outputs": []
    },
    {
      "cell_type": "markdown",
      "source": [
        "Our results indicated improved performance when adjusting the regularization parameter, as opposed to not using regularization. Drawing from our models in Question 5, we conducted an exhaustive search and settled on a regularization parameter that provided us with 55 percent test accuracy among the three classes — still a noted improvement over previous attempts."
      ],
      "metadata": {
        "id": "38YL615J-udW"
      }
    },
    {
      "cell_type": "code",
      "source": [
        "# Adjusted regularization parameter based on exhaustive search\n",
        "\n",
        "reg = 2e-1"
      ],
      "metadata": {
        "id": "koeztXFT-t0E"
      },
      "execution_count": null,
      "outputs": []
    },
    {
      "cell_type": "code",
      "source": [
        "step_size = 1e-4"
      ],
      "metadata": {
        "id": "Kk-aihkR-18b"
      },
      "execution_count": null,
      "outputs": []
    },
    {
      "cell_type": "code",
      "source": [
        "for i in range(10000):\n",
        "  \n",
        "    # Class Scores\n",
        "    scores = np.dot(X_train, W) + b \n",
        "  \n",
        "    # Class Probabilities\n",
        "    exp_scores = np.exp(scores)\n",
        "    probs = exp_scores / np.sum(exp_scores, axis=1, keepdims=True) # [N x K]\n",
        "  \n",
        "    # Multiclass Logistic Loss and Regularization Loss\n",
        "    corect_logprobs = -np.log(probs[range(num_examples),y_train])\n",
        "    data_loss = np.sum(corect_logprobs)/num_examples\n",
        "    reg_loss = 0.5*reg*np.sum(W*W)\n",
        "    loss = data_loss + reg_loss\n",
        "    # Print loss through each 10 iterations\n",
        "    if i % 10 == 0:\n",
        "        print(\"iteration: \"+str(i) +\" loss: \"+str(loss))\n",
        "  \n",
        "    # Compute the gradient on scores\n",
        "    dscores = probs\n",
        "    dscores[range(num_examples),y_train] -= 1\n",
        "    dscores /= num_examples\n",
        "  \n",
        "    # Backpropagate the gradient to our parameters (W,b)\n",
        "    dW = np.dot(X_train.T, dscores)\n",
        "    db = np.sum(dscores, axis=0, keepdims=True)\n",
        "  \n",
        "    # Regularization Gradient\n",
        "    dW += reg*W \n",
        "  \n",
        "    # Parameter Update (with learning rate)\n",
        "    W += -step_size * dW\n",
        "    b += -step_size * db"
      ],
      "metadata": {
        "id": "ykCeepZV-3sX"
      },
      "execution_count": null,
      "outputs": []
    },
    {
      "cell_type": "code",
      "source": [
        "scores = np.dot(X_train, W) + b\n",
        "predicted_class = np.argmax(scores, axis=1)\n",
        "print('Training Accuracy: {0}'.format(np.mean(predicted_class == y_train)))"
      ],
      "metadata": {
        "colab": {
          "base_uri": "https://localhost:8080/"
        },
        "id": "_NW1ISyH-68Z",
        "outputId": "832464af-7f38-4922-df14-318d3acbc27e"
      },
      "execution_count": null,
      "outputs": [
        {
          "output_type": "stream",
          "name": "stdout",
          "text": [
            "Training Accuracy: 0.5166666666666667\n"
          ]
        }
      ]
    },
    {
      "cell_type": "code",
      "source": [
        "h = 0.02\n",
        "x_min, x_max = X_train[:, 0].min() - 1, X_train[:, 0].max() + 1\n",
        "y_min, y_max = X_train[:, 1].min() - 1, X_train[:, 1].max() + 1\n",
        "xx, yy = np.meshgrid(np.arange(x_min, x_max, h),\n",
        "                     np.arange(y_min, y_max, h))\n",
        "Z = np.dot(np.c_[xx.ravel(), yy.ravel()], W) + b\n",
        "Z = np.argmax(Z, axis=1)\n",
        "Z = Z.reshape(xx.shape)\n",
        "fig = plt.figure()\n",
        "plt.contourf(xx, yy, Z, cmap=plt.cm.Spectral, alpha=0.8)\n",
        "plt.scatter(X_train[:, 0], X_train[:, 1], c=y_train, s=40, cmap=plt.cm.Spectral)\n",
        "plt.xlim(xx.min(), xx.max())\n",
        "plt.ylim(yy.min(), yy.max())"
      ],
      "metadata": {
        "colab": {
          "base_uri": "https://localhost:8080/",
          "height": 520
        },
        "id": "88ytI_Ug-9cD",
        "outputId": "2afeb939-5421-4f9f-95ea-e21e83aa5a06"
      },
      "execution_count": null,
      "outputs": [
        {
          "output_type": "execute_result",
          "data": {
            "text/plain": [
              "(-1.8755980440759308, 1.9044019559240726)"
            ]
          },
          "metadata": {},
          "execution_count": 71
        },
        {
          "output_type": "display_data",
          "data": {
            "text/plain": [
              "<Figure size 720x576 with 1 Axes>"
            ],
            "image/png": "[encoded data removed]"
          },
          "metadata": {
            "needs_background": "light"
          }
        }
      ]
    },
    {
      "cell_type": "code",
      "source": [
        "scores = np.dot(X_test, W) + b\n",
        "predicted_class = np.argmax(scores, axis=1)\n",
        "print('Test Accuracy: {0}'.format(np.mean(predicted_class == y_test)))"
      ],
      "metadata": {
        "colab": {
          "base_uri": "https://localhost:8080/"
        },
        "id": "NSlhGri7-_4L",
        "outputId": "c3dfc157-0e67-448b-87dd-db690e8a271b"
      },
      "execution_count": null,
      "outputs": [
        {
          "output_type": "stream",
          "name": "stdout",
          "text": [
            "Test Accuracy: 0.5\n"
          ]
        }
      ]
    },
    {
      "cell_type": "code",
      "source": [
        "# This test struggles with identifying one class, but overall it's an improvement\n",
        "\n",
        "h = 0.02\n",
        "x_min, x_max = X_test[:, 0].min() - 1, X_test[:, 0].max() + 1\n",
        "y_min, y_max = X_test[:, 1].min() - 1, X_test[:, 1].max() + 1\n",
        "xx, yy = np.meshgrid(np.arange(x_min, x_max, h),\n",
        "                     np.arange(y_min, y_max, h))\n",
        "Z = np.dot(np.c_[xx.ravel(), yy.ravel()], W) + b\n",
        "Z = np.argmax(Z, axis=1)\n",
        "Z = Z.reshape(xx.shape)\n",
        "fig = plt.figure()\n",
        "plt.contourf(xx, yy, Z, cmap=plt.cm.Spectral, alpha=0.8)\n",
        "plt.scatter(X_test[:, 0], X_test[:, 1], c=y_test, s=40, cmap=plt.cm.Spectral)\n",
        "plt.xlim(xx.min(), xx.max())\n",
        "plt.ylim(yy.min(), yy.max())"
      ],
      "metadata": {
        "colab": {
          "base_uri": "https://localhost:8080/",
          "height": 520
        },
        "id": "B2Wd99vM_ClV",
        "outputId": "d7e560e0-e316-4eeb-ebc5-5437a4d6097f"
      },
      "execution_count": null,
      "outputs": [
        {
          "output_type": "execute_result",
          "data": {
            "text/plain": [
              "(-1.8392574334736982, 1.740742566526305)"
            ]
          },
          "metadata": {},
          "execution_count": 73
        },
        {
          "output_type": "display_data",
          "data": {
            "text/plain": [
              "<Figure size 720x576 with 1 Axes>"
            ],
            "image/png": "[encoded data removed]"
          },
          "metadata": {
            "needs_background": "light"
          }
        }
      ]
    },
    {
      "cell_type": "code",
      "source": [
        "##7. What is the sensitivity of the model's performance with respect to a different train/test split (50/50)\n",
        "# Split into 50/50\n",
        "\n",
        "X_train3, X_test3, y_train3, y_test3 = train_test_split(X, y, test_size=0.5)"
      ],
      "metadata": {
        "id": "lp9PqYNQ_Emy"
      },
      "execution_count": null,
      "outputs": []
    },
    {
      "cell_type": "markdown",
      "source": [
        "In a sort of plot twist, the above model fit best for training accuracy (0.66) after changing the train/test split and was roughly on par with other outcomes when it came to training accuracy (0.54). \n",
        "\n",
        "This is a good example of how the number of examples can greatly influence the outcome of a model.  "
      ],
      "metadata": {
        "id": "700aQJYq_JRc"
      }
    },
    {
      "cell_type": "code",
      "source": [
        "X_train3.shape"
      ],
      "metadata": {
        "colab": {
          "base_uri": "https://localhost:8080/"
        },
        "id": "yexYJCa7_HBt",
        "outputId": "d474154d-2895-477f-c844-dc7b3de1592e"
      },
      "execution_count": null,
      "outputs": [
        {
          "output_type": "execute_result",
          "data": {
            "text/plain": [
              "(150, 2)"
            ]
          },
          "metadata": {},
          "execution_count": 75
        }
      ]
    },
    {
      "cell_type": "code",
      "source": [
        "num_examples = X_train3.shape[0]"
      ],
      "metadata": {
        "id": "DJfGNZP1_M7L"
      },
      "execution_count": null,
      "outputs": []
    },
    {
      "cell_type": "code",
      "source": [
        "X_test3.shape"
      ],
      "metadata": {
        "colab": {
          "base_uri": "https://localhost:8080/"
        },
        "id": "uX4cZr9a_OkC",
        "outputId": "e0d77bb3-22d2-4887-cdec-5dc1abca44b3"
      },
      "execution_count": null,
      "outputs": [
        {
          "output_type": "execute_result",
          "data": {
            "text/plain": [
              "(150, 2)"
            ]
          },
          "metadata": {},
          "execution_count": 77
        }
      ]
    },
    {
      "cell_type": "code",
      "source": [
        "for i in range(10000):\n",
        "  \n",
        "    # Class Scores\n",
        "    scores = np.dot(X_train3, W) + b \n",
        "  \n",
        "    # Class Probabilities\n",
        "    exp_scores = np.exp(scores)\n",
        "    probs = exp_scores / np.sum(exp_scores, axis=1, keepdims=True) # [N x K]\n",
        "  \n",
        "    # Multiclass Logistic Loss and Regularization Loss\n",
        "    corect_logprobs = -np.log(probs[range(num_examples),y_train3])\n",
        "    data_loss = np.sum(corect_logprobs)/num_examples\n",
        "    reg_loss = 0.5*reg*np.sum(W*W)\n",
        "    loss = data_loss + reg_loss\n",
        "    # Print loss through each 10 iterations\n",
        "    if i % 10 == 0:\n",
        "        print(\"iteration: \"+str(i) +\" loss: \"+str(loss))\n",
        "  \n",
        "    # Compute the gradient on scores\n",
        "    dscores = probs\n",
        "    dscores[range(num_examples),y_train3] -= 1\n",
        "    dscores /= num_examples\n",
        "  \n",
        "    # Backpropagate the gradient to our parameters (W,b)\n",
        "    dW = np.dot(X_train3.T, dscores)\n",
        "    db = np.sum(dscores, axis=0, keepdims=True)\n",
        "  \n",
        "    # Regularization Gradient\n",
        "    dW += reg*W \n",
        "  \n",
        "    # Parameter Update (with learning rate)\n",
        "    W += -step_size * dW\n",
        "    b += -step_size * db"
      ],
      "metadata": {
        "id": "w_bH2TJc_QKU"
      },
      "execution_count": null,
      "outputs": []
    },
    {
      "cell_type": "code",
      "source": [
        "scores = np.dot(X_train3, W) + b\n",
        "predicted_class = np.argmax(scores, axis=1)\n",
        "print('Training Accuracy: {0}'.format(np.mean(predicted_class == y_train3)))"
      ],
      "metadata": {
        "colab": {
          "base_uri": "https://localhost:8080/"
        },
        "id": "HVG699lb_SMu",
        "outputId": "007268b6-5bd9-4945-fc6a-3541618b7362"
      },
      "execution_count": null,
      "outputs": [
        {
          "output_type": "stream",
          "name": "stdout",
          "text": [
            "Training Accuracy: 0.6666666666666666\n"
          ]
        }
      ]
    },
    {
      "cell_type": "code",
      "source": [
        "h = 0.02\n",
        "x_min, x_max = X_train3[:, 0].min() - 1, X_train3[:, 0].max() + 1\n",
        "y_min, y_max = X_train3[:, 1].min() - 1, X_train3[:, 1].max() + 1\n",
        "xx, yy = np.meshgrid(np.arange(x_min, x_max, h),\n",
        "                     np.arange(y_min, y_max, h))\n",
        "Z = np.dot(np.c_[xx.ravel(), yy.ravel()], W) + b\n",
        "Z = np.argmax(Z, axis=1)\n",
        "Z = Z.reshape(xx.shape)\n",
        "fig = plt.figure()\n",
        "plt.contourf(xx, yy, Z, cmap=plt.cm.Spectral, alpha=0.8)\n",
        "plt.scatter(X_train3[:, 0], X_train3[:, 1], c=y_train3, s=40, cmap=plt.cm.Spectral)\n",
        "plt.xlim(xx.min(), xx.max())\n",
        "plt.ylim(yy.min(), yy.max())"
      ],
      "metadata": {
        "colab": {
          "base_uri": "https://localhost:8080/",
          "height": 520
        },
        "id": "7kHi0rQO_Uwu",
        "outputId": "6d8d3a58-6547-4e68-d602-0aac589c7ec4"
      },
      "execution_count": null,
      "outputs": [
        {
          "output_type": "execute_result",
          "data": {
            "text/plain": [
              "(-1.8755980440759308, 1.9044019559240726)"
            ]
          },
          "metadata": {},
          "execution_count": 80
        },
        {
          "output_type": "display_data",
          "data": {
            "text/plain": [
              "<Figure size 720x576 with 1 Axes>"
            ],
            "image/png": "[encoded data removed]"
          },
          "metadata": {
            "needs_background": "light"
          }
        }
      ]
    },
    {
      "cell_type": "code",
      "source": [
        "scores = np.dot(X_test3, W) + b\n",
        "predicted_class = np.argmax(scores, axis=1)\n",
        "print('Test Accuracy: {0}'.format(np.mean(predicted_class == y_test3)))"
      ],
      "metadata": {
        "colab": {
          "base_uri": "https://localhost:8080/"
        },
        "id": "r-d6MZ4D_W-U",
        "outputId": "bdd49e6e-48ac-420b-d19e-711e81badcff"
      },
      "execution_count": null,
      "outputs": [
        {
          "output_type": "stream",
          "name": "stdout",
          "text": [
            "Test Accuracy: 0.54\n"
          ]
        }
      ]
    },
    {
      "cell_type": "code",
      "source": [
        "h = 0.02\n",
        "x_min, x_max = X_test3[:, 0].min() - 1, X_test3[:, 0].max() + 1\n",
        "y_min, y_max = X_test3[:, 1].min() - 1, X_test3[:, 1].max() + 1\n",
        "xx, yy = np.meshgrid(np.arange(x_min, x_max, h),\n",
        "                     np.arange(y_min, y_max, h))\n",
        "Z = np.dot(np.c_[xx.ravel(), yy.ravel()], W) + b\n",
        "Z = np.argmax(Z, axis=1)\n",
        "Z = Z.reshape(xx.shape)\n",
        "fig = plt.figure()\n",
        "plt.contourf(xx, yy, Z, cmap=plt.cm.Spectral, alpha=0.8)\n",
        "plt.scatter(X_test3[:, 0], X_test3[:, 1], c=y_test3, s=40, cmap=plt.cm.Spectral)\n",
        "plt.xlim(xx.min(), xx.max())\n",
        "plt.ylim(yy.min(), yy.max())"
      ],
      "metadata": {
        "colab": {
          "base_uri": "https://localhost:8080/",
          "height": 520
        },
        "id": "Nah8Z-Jb_aTm",
        "outputId": "71658e7a-d79c-4ffe-babd-7cb21f347fcd"
      },
      "execution_count": null,
      "outputs": [
        {
          "output_type": "execute_result",
          "data": {
            "text/plain": [
              "(-1.8257903437299143, 1.914209656270089)"
            ]
          },
          "metadata": {},
          "execution_count": 82
        },
        {
          "output_type": "display_data",
          "data": {
            "text/plain": [
              "<Figure size 720x576 with 1 Axes>"
            ],
            "image/png": "[encoded data removed]"
          },
          "metadata": {
            "needs_background": "light"
          }
        }
      ]
    },
    {
      "cell_type": "markdown",
      "source": [
        "# Question 5"
      ],
      "metadata": {
        "id": "3mHqvLfKujLL"
      }
    },
    {
      "cell_type": "code",
      "source": [
        "# https://machinelearningmastery.com/how-to-develop-a-cnn-from-scratch-for-fashion-mnist-clothing-classification/\n",
        "# https://keras.io/guides/functional_api/"
      ],
      "metadata": {
        "id": "4_ESl9rItqiv"
      },
      "execution_count": null,
      "outputs": []
    },
    {
      "cell_type": "code",
      "source": [
        "import numpy as np\n",
        "import tensorflow as tf\n",
        "\n",
        "import tensorflow.keras as keras\n",
        "from tensorflow.keras.models import Model\n",
        "from tensorflow.keras.layers import  Flatten, Input, Dense\n",
        "from tensorflow.keras.datasets import fashion_mnist\n",
        "from tensorflow.keras.utils import to_categorical\n",
        "from tensorflow.keras.optimizers import SGD\n",
        "\n",
        "from matplotlib import pyplot\n"
      ],
      "metadata": {
        "id": "ryUsTR0BtqgQ"
      },
      "execution_count": null,
      "outputs": []
    },
    {
      "cell_type": "code",
      "source": [
        "(trainX, trainY), (testX, testY) = fashion_mnist.load_data()\n",
        "trainX = trainX.reshape((trainX.shape[0], 28, 28, 1))\n",
        "testX = testX.reshape((testX.shape[0], 28, 28, 1))\n",
        "trainY = to_categorical(trainY)\n",
        "testY = to_categorical(testY)\n",
        "trainn = trainX / 255.0\n",
        "testn = testX / 255.0"
      ],
      "metadata": {
        "colab": {
          "base_uri": "https://localhost:8080/"
        },
        "id": "_231UazUtqdt",
        "outputId": "510f93f7-8abc-4b80-9164-532d5ed90a35"
      },
      "execution_count": null,
      "outputs": [
        {
          "output_type": "stream",
          "name": "stdout",
          "text": [
            "Downloading data from https://storage.googleapis.com/tensorflow/tf-keras-datasets/train-labels-idx1-ubyte.gz\n",
            "32768/29515 [=================================] - 0s 0us/step\n",
            "40960/29515 [=========================================] - 0s 0us/step\n",
            "Downloading data from https://storage.googleapis.com/tensorflow/tf-keras-datasets/train-images-idx3-ubyte.gz\n",
            "26427392/26421880 [==============================] - 0s 0us/step\n",
            "26435584/26421880 [==============================] - 0s 0us/step\n",
            "Downloading data from https://storage.googleapis.com/tensorflow/tf-keras-datasets/t10k-labels-idx1-ubyte.gz\n",
            "16384/5148 [===============================================================================================] - 0s 0us/step\n",
            "Downloading data from https://storage.googleapis.com/tensorflow/tf-keras-datasets/t10k-images-idx3-ubyte.gz\n",
            "4423680/4422102 [==============================] - 0s 0us/step\n",
            "4431872/4422102 [==============================] - 0s 0us/step\n"
          ]
        }
      ]
    },
    {
      "cell_type": "code",
      "source": [
        "def moddel (act1,act2,opt,losss,metricss,batchsize,epochhs,splitsize,hiddn):\n",
        "  inputs = keras.Input(shape=(28, 28, 1))\n",
        "  dense = Dense(hiddn, activation=act1)\n",
        "  x = dense(inputs)\n",
        "  x = Flatten()(x)\n",
        "  outputs = Dense(10, activation=act2)(x)\n",
        "\n",
        "  model = Model(inputs=inputs, outputs=outputs, name=\"mnist_model\")\n",
        "\n",
        "  model.compile(optimizer=opt, loss=losss, metrics=[metricss])\n",
        "  history = model.fit(trainX, trainY, batch_size=batchsize, epochs=epochhs, validation_split=splitsize)\n",
        "\n",
        "  return model, history\n",
        "\n"
      ],
      "metadata": {
        "id": "3Ohk84V2tqa5"
      },
      "execution_count": null,
      "outputs": []
    },
    {
      "cell_type": "code",
      "source": [
        "# model=moddel(act1,act2,opt,losss,metricss,batchsize,epochhs,splitsize)\n",
        "opt = SGD(learning_rate=0.005, momentum=0.9)\n",
        "model,history=moddel('relu','relu',opt,'categorical_crossentropy','accuracy',128,2,0.2,128)\n",
        "model.summary()\n",
        "test_scores = model.evaluate(testX, testY, verbose=2)\n",
        "print(\"Test loss:\", test_scores[0])\n",
        "print(\"Test accuracy:\", test_scores[1])"
      ],
      "metadata": {
        "colab": {
          "base_uri": "https://localhost:8080/"
        },
        "id": "XQ1N7HjntqYP",
        "outputId": "6a476209-8d64-490c-cf0b-b208971e6831"
      },
      "execution_count": null,
      "outputs": [
        {
          "output_type": "stream",
          "name": "stdout",
          "text": [
            "Epoch 1/2\n",
            "375/375 [==============================] - 61s 161ms/step - loss: 4.9830 - accuracy: 0.0992 - val_loss: 3.8601 - val_accuracy: 0.1030\n",
            "Epoch 2/2\n",
            "375/375 [==============================] - 50s 135ms/step - loss: 3.7182 - accuracy: 0.0993 - val_loss: 3.5365 - val_accuracy: 0.1030\n",
            "Model: \"mnist_model\"\n",
            "_________________________________________________________________\n",
            " Layer (type)                Output Shape              Param #   \n",
            "=================================================================\n",
            " input_1 (InputLayer)        [(None, 28, 28, 1)]       0         \n",
            "                                                                 \n",
            " dense (Dense)               (None, 28, 28, 128)       256       \n",
            "                                                                 \n",
            " flatten (Flatten)           (None, 100352)            0         \n",
            "                                                                 \n",
            " dense_1 (Dense)             (None, 10)                1003530   \n",
            "                                                                 \n",
            "=================================================================\n",
            "Total params: 1,003,786\n",
            "Trainable params: 1,003,786\n",
            "Non-trainable params: 0\n",
            "_________________________________________________________________\n",
            "313/313 - 3s - loss: 3.5650 - accuracy: 0.1000 - 3s/epoch - 9ms/step\n",
            "Test loss: 3.5650014877319336\n",
            "Test accuracy: 0.10000000149011612\n"
          ]
        }
      ]
    },
    {
      "cell_type": "code",
      "source": [
        "# model=moddel(act1,act2,opt,losss,metricss,batchsize,epochhs,splitsize)\n",
        "opt = SGD(learning_rate=0.01, momentum=0.9)\n",
        "model,history=moddel('relu','relu',opt,'categorical_crossentropy','accuracy',128,2,0.2,128)\n",
        "model.summary()\n",
        "test_scores = model.evaluate(testX, testY, verbose=2)\n",
        "print(\"Test loss:\", test_scores[0])\n",
        "print(\"Test accuracy:\", test_scores[1])"
      ],
      "metadata": {
        "colab": {
          "base_uri": "https://localhost:8080/"
        },
        "id": "6lDFpL84u1W_",
        "outputId": "380679bb-212c-43ee-8a8c-788db456733c"
      },
      "execution_count": null,
      "outputs": [
        {
          "output_type": "stream",
          "name": "stdout",
          "text": [
            "Epoch 1/2\n",
            "375/375 [==============================] - 51s 136ms/step - loss: nan - accuracy: 0.1522 - val_loss: nan - val_accuracy: 0.1030\n",
            "Epoch 2/2\n",
            "375/375 [==============================] - 49s 130ms/step - loss: nan - accuracy: 0.0993 - val_loss: nan - val_accuracy: 0.1030\n",
            "Model: \"mnist_model\"\n",
            "_________________________________________________________________\n",
            " Layer (type)                Output Shape              Param #   \n",
            "=================================================================\n",
            " input_2 (InputLayer)        [(None, 28, 28, 1)]       0         \n",
            "                                                                 \n",
            " dense_2 (Dense)             (None, 28, 28, 128)       256       \n",
            "                                                                 \n",
            " flatten_1 (Flatten)         (None, 100352)            0         \n",
            "                                                                 \n",
            " dense_3 (Dense)             (None, 10)                1003530   \n",
            "                                                                 \n",
            "=================================================================\n",
            "Total params: 1,003,786\n",
            "Trainable params: 1,003,786\n",
            "Non-trainable params: 0\n",
            "_________________________________________________________________\n",
            "313/313 - 3s - loss: nan - accuracy: 0.1000 - 3s/epoch - 9ms/step\n",
            "Test loss: nan\n",
            "Test accuracy: 0.10000000149011612\n"
          ]
        }
      ]
    },
    {
      "cell_type": "code",
      "source": [
        "# model=moddel(act1,act2,opt,losss,metricss,batchsize,epochhs,splitsize)\n",
        "opt = SGD(learning_rate=0.005, momentum=0.9)\n",
        "model,history=moddel('relu','relu',opt,'categorical_crossentropy','accuracy',128,2,0.2,8)\n",
        "model.summary()\n",
        "test_scores = model.evaluate(testX, testY, verbose=2)\n",
        "print(\"Test loss:\", test_scores[0])\n",
        "print(\"Test accuracy:\", test_scores[1])"
      ],
      "metadata": {
        "colab": {
          "base_uri": "https://localhost:8080/"
        },
        "id": "wtvSpLYVu1T8",
        "outputId": "c3816185-a528-4c79-8c42-cf07a70f27ff"
      },
      "execution_count": null,
      "outputs": [
        {
          "output_type": "stream",
          "name": "stdout",
          "text": [
            "Epoch 1/2\n",
            "375/375 [==============================] - 5s 13ms/step - loss: 2.1949 - accuracy: 0.1595 - val_loss: 2.0405 - val_accuracy: 0.0957\n",
            "Epoch 2/2\n",
            "375/375 [==============================] - 4s 12ms/step - loss: 1.8307 - accuracy: 0.1040 - val_loss: 1.6521 - val_accuracy: 0.1324\n",
            "Model: \"mnist_model\"\n",
            "_________________________________________________________________\n",
            " Layer (type)                Output Shape              Param #   \n",
            "=================================================================\n",
            " input_3 (InputLayer)        [(None, 28, 28, 1)]       0         \n",
            "                                                                 \n",
            " dense_4 (Dense)             (None, 28, 28, 8)         16        \n",
            "                                                                 \n",
            " flatten_2 (Flatten)         (None, 6272)              0         \n",
            "                                                                 \n",
            " dense_5 (Dense)             (None, 10)                62730     \n",
            "                                                                 \n",
            "=================================================================\n",
            "Total params: 62,746\n",
            "Trainable params: 62,746\n",
            "Non-trainable params: 0\n",
            "_________________________________________________________________\n",
            "313/313 - 1s - loss: 1.6555 - accuracy: 0.1372 - 592ms/epoch - 2ms/step\n",
            "Test loss: 1.655488133430481\n",
            "Test accuracy: 0.1371999979019165\n"
          ]
        }
      ]
    },
    {
      "cell_type": "code",
      "source": [
        "# model=moddel(act1,act2,opt,losss,metricss,batchsize,epochhs,splitsize)\n",
        "opt = SGD(learning_rate=0.01, momentum=0.9)\n",
        "model,history=moddel('relu','relu',opt,'categorical_crossentropy','accuracy',128,2,0.2,8)\n",
        "model.summary()\n",
        "test_scores = model.evaluate(testX, testY, verbose=2)\n",
        "print(\"Test loss:\", test_scores[0])\n",
        "print(\"Test accuracy:\", test_scores[1])"
      ],
      "metadata": {
        "colab": {
          "base_uri": "https://localhost:8080/"
        },
        "id": "sUeOX2tfu1RP",
        "outputId": "4afdde3e-8177-4154-9a11-636893b18c8c"
      },
      "execution_count": null,
      "outputs": [
        {
          "output_type": "stream",
          "name": "stdout",
          "text": [
            "Epoch 1/2\n",
            "375/375 [==============================] - 5s 12ms/step - loss: 7.4198 - accuracy: 0.1065 - val_loss: 7.2965 - val_accuracy: 0.1287\n",
            "Epoch 2/2\n",
            "375/375 [==============================] - 4s 11ms/step - loss: 7.1864 - accuracy: 0.2210 - val_loss: 7.0781 - val_accuracy: 0.2853\n",
            "Model: \"mnist_model\"\n",
            "_________________________________________________________________\n",
            " Layer (type)                Output Shape              Param #   \n",
            "=================================================================\n",
            " input_4 (InputLayer)        [(None, 28, 28, 1)]       0         \n",
            "                                                                 \n",
            " dense_6 (Dense)             (None, 28, 28, 8)         16        \n",
            "                                                                 \n",
            " flatten_3 (Flatten)         (None, 6272)              0         \n",
            "                                                                 \n",
            " dense_7 (Dense)             (None, 10)                62730     \n",
            "                                                                 \n",
            "=================================================================\n",
            "Total params: 62,746\n",
            "Trainable params: 62,746\n",
            "Non-trainable params: 0\n",
            "_________________________________________________________________\n",
            "313/313 - 1s - loss: 7.0752 - accuracy: 0.2874 - 597ms/epoch - 2ms/step\n",
            "Test loss: 7.075226783752441\n",
            "Test accuracy: 0.2874000072479248\n"
          ]
        }
      ]
    },
    {
      "cell_type": "code",
      "source": [
        "# model=moddel(act1,act2,opt,losss,metricss,batchsize,epochhs,splitsize)\n",
        "opt = SGD(learning_rate=0.01, momentum=0.9)\n",
        "model,history=moddel('relu','relu','adadelta','categorical_crossentropy','accuracy',128,2,0.2,128)\n",
        "model.summary()\n",
        "test_scores = model.evaluate(testX, testY, verbose=2)\n",
        "print(\"Test loss:\", test_scores[0])\n",
        "print(\"Test accuracy:\", test_scores[1])"
      ],
      "metadata": {
        "colab": {
          "base_uri": "https://localhost:8080/"
        },
        "id": "0ZMoP6Jiu1Oe",
        "outputId": "e53319b5-df14-47cb-dda6-c1c2cd501883"
      },
      "execution_count": null,
      "outputs": [
        {
          "output_type": "stream",
          "name": "stdout",
          "text": [
            "Epoch 1/2\n",
            "375/375 [==============================] - 51s 135ms/step - loss: nan - accuracy: 0.1375 - val_loss: nan - val_accuracy: 0.1030\n",
            "Epoch 2/2\n",
            "375/375 [==============================] - 50s 133ms/step - loss: nan - accuracy: 0.0993 - val_loss: nan - val_accuracy: 0.1030\n",
            "Model: \"mnist_model\"\n",
            "_________________________________________________________________\n",
            " Layer (type)                Output Shape              Param #   \n",
            "=================================================================\n",
            " input_5 (InputLayer)        [(None, 28, 28, 1)]       0         \n",
            "                                                                 \n",
            " dense_8 (Dense)             (None, 28, 28, 128)       256       \n",
            "                                                                 \n",
            " flatten_4 (Flatten)         (None, 100352)            0         \n",
            "                                                                 \n",
            " dense_9 (Dense)             (None, 10)                1003530   \n",
            "                                                                 \n",
            "=================================================================\n",
            "Total params: 1,003,786\n",
            "Trainable params: 1,003,786\n",
            "Non-trainable params: 0\n",
            "_________________________________________________________________\n",
            "313/313 - 3s - loss: nan - accuracy: 0.1000 - 3s/epoch - 10ms/step\n",
            "Test loss: nan\n",
            "Test accuracy: 0.10000000149011612\n"
          ]
        }
      ]
    },
    {
      "cell_type": "code",
      "source": [
        "# model=moddel(act1,act2,opt,losss,metricss,batchsize,epochhs,splitsize)\n",
        "opt = SGD(learning_rate=0.01, momentum=0.9)\n",
        "model,history=moddel('relu','relu','adadelta','categorical_crossentropy','accuracy',128,2,0.2,8)\n",
        "model.summary()\n",
        "test_scores = model.evaluate(testX, testY, verbose=2)\n",
        "print(\"Test loss:\", test_scores[0])\n",
        "print(\"Test accuracy:\", test_scores[1])"
      ],
      "metadata": {
        "colab": {
          "base_uri": "https://localhost:8080/"
        },
        "id": "Pl3bViNzu1L1",
        "outputId": "b6379c33-6a92-4893-cde2-11a5481e990e"
      },
      "execution_count": null,
      "outputs": [
        {
          "output_type": "stream",
          "name": "stdout",
          "text": [
            "Epoch 1/2\n",
            "375/375 [==============================] - 5s 11ms/step - loss: nan - accuracy: 0.1830 - val_loss: nan - val_accuracy: 0.1030\n",
            "Epoch 2/2\n",
            "375/375 [==============================] - 4s 11ms/step - loss: nan - accuracy: 0.0993 - val_loss: nan - val_accuracy: 0.1030\n",
            "Model: \"mnist_model\"\n",
            "_________________________________________________________________\n",
            " Layer (type)                Output Shape              Param #   \n",
            "=================================================================\n",
            " input_6 (InputLayer)        [(None, 28, 28, 1)]       0         \n",
            "                                                                 \n",
            " dense_10 (Dense)            (None, 28, 28, 8)         16        \n",
            "                                                                 \n",
            " flatten_5 (Flatten)         (None, 6272)              0         \n",
            "                                                                 \n",
            " dense_11 (Dense)            (None, 10)                62730     \n",
            "                                                                 \n",
            "=================================================================\n",
            "Total params: 62,746\n",
            "Trainable params: 62,746\n",
            "Non-trainable params: 0\n",
            "_________________________________________________________________\n",
            "313/313 - 1s - loss: nan - accuracy: 0.1000 - 618ms/epoch - 2ms/step\n",
            "Test loss: nan\n",
            "Test accuracy: 0.10000000149011612\n"
          ]
        }
      ]
    },
    {
      "cell_type": "code",
      "source": [
        "# model=moddel(act1,act2,opt,losss,metricss,batchsize,epochhs,splitsize)\n",
        "opt = SGD(learning_rate=0.005, momentum=0.9)\n",
        "model,history=moddel('LeakyReLU','LeakyReLU',opt,'categorical_crossentropy','accuracy',128,2,0.2,128)\n",
        "model.summary()\n",
        "test_scores = model.evaluate(testX, testY, verbose=2)\n",
        "print(\"Test loss:\", test_scores[0])\n",
        "print(\"Test accuracy:\", test_scores[1])"
      ],
      "metadata": {
        "colab": {
          "base_uri": "https://localhost:8080/"
        },
        "id": "igO5zYjhu1JQ",
        "outputId": "ae0168a3-2837-4d2b-ddea-1bdda58891fb"
      },
      "execution_count": null,
      "outputs": [
        {
          "output_type": "stream",
          "name": "stdout",
          "text": [
            "Epoch 1/2\n",
            "375/375 [==============================] - 58s 153ms/step - loss: 3.4572 - accuracy: 0.1135 - val_loss: 2.1940 - val_accuracy: 0.0011\n",
            "Epoch 2/2\n",
            "375/375 [==============================] - 58s 154ms/step - loss: 5.1344 - accuracy: 0.0311 - val_loss: 3.5839 - val_accuracy: 0.0984\n",
            "Model: \"mnist_model\"\n",
            "_________________________________________________________________\n",
            " Layer (type)                Output Shape              Param #   \n",
            "=================================================================\n",
            " input_7 (InputLayer)        [(None, 28, 28, 1)]       0         \n",
            "                                                                 \n",
            " dense_12 (Dense)            (None, 28, 28, 128)       256       \n",
            "                                                                 \n",
            " flatten_6 (Flatten)         (None, 100352)            0         \n",
            "                                                                 \n",
            " dense_13 (Dense)            (None, 10)                1003530   \n",
            "                                                                 \n",
            "=================================================================\n",
            "Total params: 1,003,786\n",
            "Trainable params: 1,003,786\n",
            "Non-trainable params: 0\n",
            "_________________________________________________________________\n",
            "313/313 - 4s - loss: 3.6077 - accuracy: 0.1000 - 4s/epoch - 14ms/step\n",
            "Test loss: 3.607748508453369\n",
            "Test accuracy: 0.10000000149011612\n"
          ]
        }
      ]
    },
    {
      "cell_type": "code",
      "source": [
        "# model=moddel(act1,act2,opt,losss,metricss,batchsize,epochhs,splitsize)\n",
        "opt = SGD(learning_rate=0.01, momentum=0.9)\n",
        "model,history=moddel('LeakyReLU','LeakyReLU',opt,'categorical_crossentropy','accuracy',128,2,0.2,128)\n",
        "model.summary()\n",
        "test_scores = model.evaluate(testX, testY, verbose=2)\n",
        "print(\"Test loss:\", test_scores[0])\n",
        "print(\"Test accuracy:\", test_scores[1])"
      ],
      "metadata": {
        "colab": {
          "base_uri": "https://localhost:8080/"
        },
        "id": "b4IqJgrbu1G6",
        "outputId": "63c4253e-fb09-4d49-aa28-0a85636902fc"
      },
      "execution_count": null,
      "outputs": [
        {
          "output_type": "stream",
          "name": "stdout",
          "text": [
            "Epoch 1/2\n",
            "375/375 [==============================] - 58s 154ms/step - loss: 7.5612 - accuracy: 0.1365 - val_loss: 8.0968 - val_accuracy: 0.1005\n",
            "Epoch 2/2\n",
            "375/375 [==============================] - 56s 150ms/step - loss: 8.8863 - accuracy: 0.0999 - val_loss: 9.2029 - val_accuracy: 0.1005\n",
            "Model: \"mnist_model\"\n",
            "_________________________________________________________________\n",
            " Layer (type)                Output Shape              Param #   \n",
            "=================================================================\n",
            " input_8 (InputLayer)        [(None, 28, 28, 1)]       0         \n",
            "                                                                 \n",
            " dense_14 (Dense)            (None, 28, 28, 128)       256       \n",
            "                                                                 \n",
            " flatten_7 (Flatten)         (None, 100352)            0         \n",
            "                                                                 \n",
            " dense_15 (Dense)            (None, 10)                1003530   \n",
            "                                                                 \n",
            "=================================================================\n",
            "Total params: 1,003,786\n",
            "Trainable params: 1,003,786\n",
            "Non-trainable params: 0\n",
            "_________________________________________________________________\n",
            "313/313 - 4s - loss: 9.2804 - accuracy: 0.1000 - 4s/epoch - 13ms/step\n",
            "Test loss: 9.280430793762207\n",
            "Test accuracy: 0.10000000149011612\n"
          ]
        }
      ]
    },
    {
      "cell_type": "code",
      "source": [
        "# model=moddel(act1,act2,opt,losss,metricss,batchsize,epochhs,splitsize)\n",
        "opt = SGD(learning_rate=0.005, momentum=0.9)\n",
        "model,history=moddel('LeakyReLU','LeakyReLU',opt,'categorical_crossentropy','accuracy',128,2,0.2,8)\n",
        "model.summary()\n",
        "test_scores = model.evaluate(testX, testY, verbose=2)\n",
        "print(\"Test loss:\", test_scores[0])\n",
        "print(\"Test accuracy:\", test_scores[1])"
      ],
      "metadata": {
        "colab": {
          "base_uri": "https://localhost:8080/"
        },
        "id": "xb8XPqDcu1Ec",
        "outputId": "66994c72-bc8e-46d4-bee9-ed5e51cf04ff"
      },
      "execution_count": null,
      "outputs": [
        {
          "output_type": "stream",
          "name": "stdout",
          "text": [
            "Epoch 1/2\n",
            "375/375 [==============================] - 5s 12ms/step - loss: 9.3246 - accuracy: 0.1516 - val_loss: 8.7151 - val_accuracy: 0.0930\n",
            "Epoch 2/2\n",
            "375/375 [==============================] - 5s 12ms/step - loss: 8.4290 - accuracy: 0.1115 - val_loss: 9.4699 - val_accuracy: 0.1212\n",
            "Model: \"mnist_model\"\n",
            "_________________________________________________________________\n",
            " Layer (type)                Output Shape              Param #   \n",
            "=================================================================\n",
            " input_9 (InputLayer)        [(None, 28, 28, 1)]       0         \n",
            "                                                                 \n",
            " dense_16 (Dense)            (None, 28, 28, 8)         16        \n",
            "                                                                 \n",
            " flatten_8 (Flatten)         (None, 6272)              0         \n",
            "                                                                 \n",
            " dense_17 (Dense)            (None, 10)                62730     \n",
            "                                                                 \n",
            "=================================================================\n",
            "Total params: 62,746\n",
            "Trainable params: 62,746\n",
            "Non-trainable params: 0\n",
            "_________________________________________________________________\n",
            "313/313 - 1s - loss: 9.5547 - accuracy: 0.1232 - 656ms/epoch - 2ms/step\n",
            "Test loss: 9.55467700958252\n",
            "Test accuracy: 0.12319999933242798\n"
          ]
        }
      ]
    },
    {
      "cell_type": "code",
      "source": [
        "# model=moddel(act1,act2,opt,losss,metricss,batchsize,epochhs,splitsize)\n",
        "opt = SGD(learning_rate=0.01, momentum=0.9)\n",
        "model,history=moddel('LeakyReLU','LeakyReLU',opt,'categorical_crossentropy','accuracy',128,2,0.2,8)\n",
        "model.summary()\n",
        "test_scores = model.evaluate(testX, testY, verbose=2)\n",
        "print(\"Test loss:\", test_scores[0])\n",
        "print(\"Test accuracy:\", test_scores[1])"
      ],
      "metadata": {
        "colab": {
          "base_uri": "https://localhost:8080/"
        },
        "id": "BbczH98Yu1B3",
        "outputId": "384830d0-fc16-4540-cdfa-771db3477718"
      },
      "execution_count": null,
      "outputs": [
        {
          "output_type": "stream",
          "name": "stdout",
          "text": [
            "Epoch 1/2\n",
            "375/375 [==============================] - 5s 13ms/step - loss: 9.0658 - accuracy: 0.1264 - val_loss: 11.6509 - val_accuracy: 0.1159\n",
            "Epoch 2/2\n",
            "375/375 [==============================] - 5s 12ms/step - loss: 10.6197 - accuracy: 0.1148 - val_loss: 10.7797 - val_accuracy: 0.1203\n",
            "Model: \"mnist_model\"\n",
            "_________________________________________________________________\n",
            " Layer (type)                Output Shape              Param #   \n",
            "=================================================================\n",
            " input_10 (InputLayer)       [(None, 28, 28, 1)]       0         \n",
            "                                                                 \n",
            " dense_18 (Dense)            (None, 28, 28, 8)         16        \n",
            "                                                                 \n",
            " flatten_9 (Flatten)         (None, 6272)              0         \n",
            "                                                                 \n",
            " dense_19 (Dense)            (None, 10)                62730     \n",
            "                                                                 \n",
            "=================================================================\n",
            "Total params: 62,746\n",
            "Trainable params: 62,746\n",
            "Non-trainable params: 0\n",
            "_________________________________________________________________\n",
            "313/313 - 1s - loss: 10.6625 - accuracy: 0.1183 - 690ms/epoch - 2ms/step\n",
            "Test loss: 10.662452697753906\n",
            "Test accuracy: 0.11829999834299088\n"
          ]
        }
      ]
    },
    {
      "cell_type": "code",
      "source": [
        "# model=moddel(act1,act2,opt,losss,metricss,batchsize,epochhs,splitsize)\n",
        "model,history=moddel('LeakyReLU','LeakyReLU','adadelta','categorical_crossentropy','accuracy',128,2,0.2,128)\n",
        "model.summary()\n",
        "test_scores = model.evaluate(testX, testY, verbose=2)\n",
        "print(\"Test loss:\", test_scores[0])\n",
        "print(\"Test accuracy:\", test_scores[1])"
      ],
      "metadata": {
        "colab": {
          "base_uri": "https://localhost:8080/"
        },
        "id": "P4rO7UbFu0_l",
        "outputId": "ad006132-b6ca-48de-ccc2-0f9c321d6378"
      },
      "execution_count": null,
      "outputs": [
        {
          "output_type": "stream",
          "name": "stdout",
          "text": [
            "Epoch 1/2\n",
            "375/375 [==============================] - 58s 155ms/step - loss: 6.6203 - accuracy: 0.1811 - val_loss: 7.0442 - val_accuracy: 0.1795\n",
            "Epoch 2/2\n",
            "375/375 [==============================] - 57s 151ms/step - loss: 6.6390 - accuracy: 0.2052 - val_loss: 6.3189 - val_accuracy: 0.2199\n",
            "Model: \"mnist_model\"\n",
            "_________________________________________________________________\n",
            " Layer (type)                Output Shape              Param #   \n",
            "=================================================================\n",
            " input_11 (InputLayer)       [(None, 28, 28, 1)]       0         \n",
            "                                                                 \n",
            " dense_20 (Dense)            (None, 28, 28, 128)       256       \n",
            "                                                                 \n",
            " flatten_10 (Flatten)        (None, 100352)            0         \n",
            "                                                                 \n",
            " dense_21 (Dense)            (None, 10)                1003530   \n",
            "                                                                 \n",
            "=================================================================\n",
            "Total params: 1,003,786\n",
            "Trainable params: 1,003,786\n",
            "Non-trainable params: 0\n",
            "_________________________________________________________________\n",
            "313/313 - 4s - loss: 6.4252 - accuracy: 0.2207 - 4s/epoch - 13ms/step\n",
            "Test loss: 6.4251861572265625\n",
            "Test accuracy: 0.2206999957561493\n"
          ]
        }
      ]
    },
    {
      "cell_type": "code",
      "source": [
        "# model=moddel(act1,act2,opt,losss,metricss,batchsize,epochhs,splitsize)\n",
        "model,history=moddel('LeakyReLU','LeakyReLU','adadelta','categorical_crossentropy','accuracy',128,2,0.2,8)\n",
        "model.summary()\n",
        "test_scores = model.evaluate(testX, testY, verbose=2)\n",
        "print(\"Test loss:\", test_scores[0])\n",
        "print(\"Test accuracy:\", test_scores[1])"
      ],
      "metadata": {
        "colab": {
          "base_uri": "https://localhost:8080/"
        },
        "id": "PL7eO7Q3u088",
        "outputId": "8483b9d0-e1bc-4124-9937-8b7db35ec401"
      },
      "execution_count": null,
      "outputs": [
        {
          "output_type": "stream",
          "name": "stdout",
          "text": [
            "Epoch 1/2\n",
            "375/375 [==============================] - 6s 13ms/step - loss: 7.0876 - accuracy: 0.1689 - val_loss: 6.8691 - val_accuracy: 0.1744\n",
            "Epoch 2/2\n",
            "375/375 [==============================] - 5s 12ms/step - loss: 7.3112 - accuracy: 0.1828 - val_loss: 7.4386 - val_accuracy: 0.1778\n",
            "Model: \"mnist_model\"\n",
            "_________________________________________________________________\n",
            " Layer (type)                Output Shape              Param #   \n",
            "=================================================================\n",
            " input_12 (InputLayer)       [(None, 28, 28, 1)]       0         \n",
            "                                                                 \n",
            " dense_22 (Dense)            (None, 28, 28, 8)         16        \n",
            "                                                                 \n",
            " flatten_11 (Flatten)        (None, 6272)              0         \n",
            "                                                                 \n",
            " dense_23 (Dense)            (None, 10)                62730     \n",
            "                                                                 \n",
            "=================================================================\n",
            "Total params: 62,746\n",
            "Trainable params: 62,746\n",
            "Non-trainable params: 0\n",
            "_________________________________________________________________\n",
            "313/313 - 1s - loss: 7.7192 - accuracy: 0.1848 - 978ms/epoch - 3ms/step\n",
            "Test loss: 7.719236850738525\n",
            "Test accuracy: 0.18479999899864197\n"
          ]
        }
      ]
    },
    {
      "cell_type": "code",
      "source": [
        "para=['relu,relu, opt, categorical_crossentropy, accuracy, 128, 2, 0.2, 128',\\\n",
        "      'relu, relu, opt, categorical_crossentropy, accuracy, 128, 2, 0.2, 128',\\\n",
        "      'relu, relu, opt, categorical_crossentropy, accuracy, 128, 2, 0.2, 8',\\\n",
        "      'relu, relu, opt, categorical_crossentropy, accuracy, 128, 2, 0.2, 8',\\\n",
        "      'relu, relu, adadelta, categorical_crossentropy, accuracy, 128, 2, 0.2, 128',\\\n",
        "      'relu, relu, adadelta, categorical_crossentropy, accuracy, 128, 2, 0.2, 8',\\\n",
        "      'LeakyReLU, LeakyReLU, opt, categorical_crossentropy, accuracy, 128, 2, 0.2, 128',\\\n",
        "      'LeakyReLU, LeakyReLU, opt, categorical_crossentropy, accuracy, 128, 2, 0.2, 128',\\\n",
        "      'LeakyReLU, LeakyReLU, opt, categorical_crossentropy, accuracy, 128, 2, 0.2, 8',\\\n",
        "      'LeakyReLU, LeakyReLU, opt, categorical_crossentropy, accuracy, 128, 2, 0.2, 8',\\\n",
        "      'LeakyReLU, LeakyReLU, adadelta, categorical_crossentropy, accuracy, 128, 2, 0.2, 128',\\\n",
        "      'LeakyReLU, LeakyReLU, adadelta, categorical_crossentropy, accuracy, 128, 2, 0.2, 8']\n",
        "errors=[4.817336556,'NaN','NaN','NaN','NaN','NaN',8.4476318,7.870545864,8.86338615,9.696705818,7.59129763,7.71364164,]\n",
        "accuracies=[0.10000,0.10000,0.10000,0.10000,0.10000,0.10000,0.1089999,0.356999,0.312999,0.1103999,0.1991000,0.1403000,]\n",
        "\n",
        "# import pandas as pd\n",
        "import pandas as pd\n",
        "df = pd.DataFrame(list(zip(para, errors,accuracies)),\n",
        "               columns =['Parameters', 'Error','Accuracy'])\n",
        "df.head(20)"
      ],
      "metadata": {
        "colab": {
          "base_uri": "https://localhost:8080/",
          "height": 435
        },
        "id": "wBsPYP3Bu02B",
        "outputId": "59bcd4b8-faca-429d-e448-8ac5780efc72"
      },
      "execution_count": null,
      "outputs": [
        {
          "output_type": "execute_result",
          "data": {
            "text/plain": [
              "                                           Parameters     Error  Accuracy\n",
              "0   relu,relu, opt, categorical_crossentropy, accu...  4.817337  0.100000\n",
              "1   relu, relu, opt, categorical_crossentropy, acc...       NaN  0.100000\n",
              "2   relu, relu, opt, categorical_crossentropy, acc...       NaN  0.100000\n",
              "3   relu, relu, opt, categorical_crossentropy, acc...       NaN  0.100000\n",
              "4   relu, relu, adadelta, categorical_crossentropy...       NaN  0.100000\n",
              "5   relu, relu, adadelta, categorical_crossentropy...       NaN  0.100000\n",
              "6   LeakyReLU, LeakyReLU, opt, categorical_crossen...  8.447632  0.109000\n",
              "7   LeakyReLU, LeakyReLU, opt, categorical_crossen...  7.870546  0.356999\n",
              "8   LeakyReLU, LeakyReLU, opt, categorical_crossen...  8.863386  0.312999\n",
              "9   LeakyReLU, LeakyReLU, opt, categorical_crossen...  9.696706  0.110400\n",
              "10  LeakyReLU, LeakyReLU, adadelta, categorical_cr...  7.591298  0.199100\n",
              "11  LeakyReLU, LeakyReLU, adadelta, categorical_cr...  7.713642  0.140300"
            ],
            "text/html": [
              "\n",
              "  <div id=\"df-18c7718f-6b73-496d-8b57-4e11acb98eea\">\n",
              "    <div class=\"colab-df-container\">\n",
              "      <div>\n",
              "<style scoped>\n",
              "    .dataframe tbody tr th:only-of-type {\n",
              "        vertical-align: middle;\n",
              "    }\n",
              "\n",
              "    .dataframe tbody tr th {\n",
              "        vertical-align: top;\n",
              "    }\n",
              "\n",
              "    .dataframe thead th {\n",
              "        text-align: right;\n",
              "    }\n",
              "</style>\n",
              "<table border=\"1\" class=\"dataframe\">\n",
              "  <thead>\n",
              "    <tr style=\"text-align: right;\">\n",
              "      <th></th>\n",
              "      <th>Parameters</th>\n",
              "      <th>Error</th>\n",
              "      <th>Accuracy</th>\n",
              "    </tr>\n",
              "  </thead>\n",
              "  <tbody>\n",
              "    <tr>\n",
              "      <th>0</th>\n",
              "      <td>relu,relu, opt, categorical_crossentropy, accu...</td>\n",
              "      <td>4.817337</td>\n",
              "      <td>0.100000</td>\n",
              "    </tr>\n",
              "    <tr>\n",
              "      <th>1</th>\n",
              "      <td>relu, relu, opt, categorical_crossentropy, acc...</td>\n",
              "      <td>NaN</td>\n",
              "      <td>0.100000</td>\n",
              "    </tr>\n",
              "    <tr>\n",
              "      <th>2</th>\n",
              "      <td>relu, relu, opt, categorical_crossentropy, acc...</td>\n",
              "      <td>NaN</td>\n",
              "      <td>0.100000</td>\n",
              "    </tr>\n",
              "    <tr>\n",
              "      <th>3</th>\n",
              "      <td>relu, relu, opt, categorical_crossentropy, acc...</td>\n",
              "      <td>NaN</td>\n",
              "      <td>0.100000</td>\n",
              "    </tr>\n",
              "    <tr>\n",
              "      <th>4</th>\n",
              "      <td>relu, relu, adadelta, categorical_crossentropy...</td>\n",
              "      <td>NaN</td>\n",
              "      <td>0.100000</td>\n",
              "    </tr>\n",
              "    <tr>\n",
              "      <th>5</th>\n",
              "      <td>relu, relu, adadelta, categorical_crossentropy...</td>\n",
              "      <td>NaN</td>\n",
              "      <td>0.100000</td>\n",
              "    </tr>\n",
              "    <tr>\n",
              "      <th>6</th>\n",
              "      <td>LeakyReLU, LeakyReLU, opt, categorical_crossen...</td>\n",
              "      <td>8.447632</td>\n",
              "      <td>0.109000</td>\n",
              "    </tr>\n",
              "    <tr>\n",
              "      <th>7</th>\n",
              "      <td>LeakyReLU, LeakyReLU, opt, categorical_crossen...</td>\n",
              "      <td>7.870546</td>\n",
              "      <td>0.356999</td>\n",
              "    </tr>\n",
              "    <tr>\n",
              "      <th>8</th>\n",
              "      <td>LeakyReLU, LeakyReLU, opt, categorical_crossen...</td>\n",
              "      <td>8.863386</td>\n",
              "      <td>0.312999</td>\n",
              "    </tr>\n",
              "    <tr>\n",
              "      <th>9</th>\n",
              "      <td>LeakyReLU, LeakyReLU, opt, categorical_crossen...</td>\n",
              "      <td>9.696706</td>\n",
              "      <td>0.110400</td>\n",
              "    </tr>\n",
              "    <tr>\n",
              "      <th>10</th>\n",
              "      <td>LeakyReLU, LeakyReLU, adadelta, categorical_cr...</td>\n",
              "      <td>7.591298</td>\n",
              "      <td>0.199100</td>\n",
              "    </tr>\n",
              "    <tr>\n",
              "      <th>11</th>\n",
              "      <td>LeakyReLU, LeakyReLU, adadelta, categorical_cr...</td>\n",
              "      <td>7.713642</td>\n",
              "      <td>0.140300</td>\n",
              "    </tr>\n",
              "  </tbody>\n",
              "</table>\n",
              "</div>\n",
              "      <button class=\"colab-df-convert\" onclick=\"convertToInteractive('df-18c7718f-6b73-496d-8b57-4e11acb98eea')\"\n",
              "              title=\"Convert this dataframe to an interactive table.\"\n",
              "              style=\"display:none;\">\n",
              "        \n",
              "  <svg xmlns=\"http://www.w3.org/2000/svg\" height=\"24px\"viewBox=\"0 0 24 24\"\n",
              "       width=\"24px\">\n",
              "    <path d=\"M0 0h24v24H0V0z\" fill=\"none\"/>\n",
              "    <path d=\"M18.56 5.44l.94 2.06.94-2.06 2.06-.94-2.06-.94-.94-2.06-.94 2.06-2.06.94zm-11 1L8.5 8.5l.94-2.06 2.06-.94-2.06-.94L8.5 2.5l-.94 2.06-2.06.94zm10 10l.94 2.06.94-2.06 2.06-.94-2.06-.94-.94-2.06-.94 2.06-2.06.94z\"/><path d=\"M17.41 7.96l-1.37-1.37c-.4-.4-.92-.59-1.43-.59-.52 0-1.04.2-1.43.59L10.3 9.45l-7.72 7.72c-.78.78-.78 2.05 0 2.83L4 21.41c.39.39.9.59 1.41.59.51 0 1.02-.2 1.41-.59l7.78-7.78 2.81-2.81c.8-.78.8-2.07 0-2.86zM5.41 20L4 18.59l7.72-7.72 1.47 1.35L5.41 20z\"/>\n",
              "  </svg>\n",
              "      </button>\n",
              "      \n",
              "  <style>\n",
              "    .colab-df-container {\n",
              "      display:flex;\n",
              "      flex-wrap:wrap;\n",
              "      gap: 12px;\n",
              "    }\n",
              "\n",
              "    .colab-df-convert {\n",
              "      background-color: #E8F0FE;\n",
              "      border: none;\n",
              "      border-radius: 50%;\n",
              "      cursor: pointer;\n",
              "      display: none;\n",
              "      fill: #1967D2;\n",
              "      height: 32px;\n",
              "      padding: 0 0 0 0;\n",
              "      width: 32px;\n",
              "    }\n",
              "\n",
              "    .colab-df-convert:hover {\n",
              "      background-color: #E2EBFA;\n",
              "      box-shadow: 0px 1px 2px rgba(60, 64, 67, 0.3), 0px 1px 3px 1px rgba(60, 64, 67, 0.15);\n",
              "      fill: #174EA6;\n",
              "    }\n",
              "\n",
              "    [theme=dark] .colab-df-convert {\n",
              "      background-color: #3B4455;\n",
              "      fill: #D2E3FC;\n",
              "    }\n",
              "\n",
              "    [theme=dark] .colab-df-convert:hover {\n",
              "      background-color: #434B5C;\n",
              "      box-shadow: 0px 1px 3px 1px rgba(0, 0, 0, 0.15);\n",
              "      filter: drop-shadow(0px 1px 2px rgba(0, 0, 0, 0.3));\n",
              "      fill: #FFFFFF;\n",
              "    }\n",
              "  </style>\n",
              "\n",
              "      <script>\n",
              "        const buttonEl =\n",
              "          document.querySelector('#df-18c7718f-6b73-496d-8b57-4e11acb98eea button.colab-df-convert');\n",
              "        buttonEl.style.display =\n",
              "          google.colab.kernel.accessAllowed ? 'block' : 'none';\n",
              "\n",
              "        async function convertToInteractive(key) {\n",
              "          const element = document.querySelector('#df-18c7718f-6b73-496d-8b57-4e11acb98eea');\n",
              "          const dataTable =\n",
              "            await google.colab.kernel.invokeFunction('convertToInteractive',\n",
              "                                                     [key], {});\n",
              "          if (!dataTable) return;\n",
              "\n",
              "          const docLinkHtml = 'Like what you see? Visit the ' +\n",
              "            '<a target=\"_blank\" href=https://colab.research.google.com/notebooks/data_table.ipynb>data table notebook</a>'\n",
              "            + ' to learn more about interactive tables.';\n",
              "          element.innerHTML = '';\n",
              "          dataTable['output_type'] = 'display_data';\n",
              "          await google.colab.output.renderOutput(dataTable, element);\n",
              "          const docLink = document.createElement('div');\n",
              "          docLink.innerHTML = docLinkHtml;\n",
              "          element.appendChild(docLink);\n",
              "        }\n",
              "      </script>\n",
              "    </div>\n",
              "  </div>\n",
              "  "
            ]
          },
          "metadata": {},
          "execution_count": 99
        }
      ]
    },
    {
      "cell_type": "code",
      "source": [
        "#For ReLU with SGD and AdaBoost the accuracy was the same (0.100000) for less as well as more number of hidden neurons \n",
        "#For LeakyReLU with AdaDelta gave better accuracy for lesser number of hidden neurons but not for higher number of hidden neurons"
      ],
      "metadata": {
        "id": "KBRgiSnTLfrt"
      },
      "execution_count": null,
      "outputs": []
    },
    {
      "cell_type": "code",
      "source": [
        "keras.utils.plot_model(model, \"my_first_model_with_shape_info.png\", show_shapes=True)"
      ],
      "metadata": {
        "colab": {
          "base_uri": "https://localhost:8080/",
          "height": 443
        },
        "id": "z_NLuaQ-vCxl",
        "outputId": "edd3b3aa-0f0d-4edc-bfad-bf7c09717034"
      },
      "execution_count": null,
      "outputs": [
        {
          "output_type": "execute_result",
          "data": {
            "image/png": "[encoded data removed]",
            "text/plain": [
              "<IPython.core.display.Image object>"
            ]
          },
          "metadata": {},
          "execution_count": 100
        }
      ]
    }
  ]
}